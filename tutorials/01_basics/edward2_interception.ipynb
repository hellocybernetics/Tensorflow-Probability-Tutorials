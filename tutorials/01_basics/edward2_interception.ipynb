{
  "nbformat": 4,
  "nbformat_minor": 0,
  "metadata": {
    "colab": {
      "name": "edward2_interception.ipynb",
      "version": "0.3.2",
      "provenance": [],
      "include_colab_link": true
    },
    "kernelspec": {
      "name": "python3",
      "display_name": "Python 3"
    }
  },
  "cells": [
    {
      "cell_type": "markdown",
      "metadata": {
        "id": "view-in-github",
        "colab_type": "text"
      },
      "source": [
        "<a href=\"https://colab.research.google.com/github/hellocybernetics/Tensorflow-Probability-Tutorials/blob/master/tutorials/01_basics/edward2_interception.ipynb\" target=\"_parent\"><img src=\"https://colab.research.google.com/assets/colab-badge.svg\" alt=\"Open In Colab\"/></a>"
      ]
    },
    {
      "metadata": {
        "id": "Du5Oebut6166",
        "colab_type": "code",
        "colab": {}
      },
      "cell_type": "code",
      "source": [
        "import tensorflow as tf\n",
        "import tensorflow_probability as tfp\n",
        "import matplotlib.pyplot as plt\n",
        "%matplotlib inline"
      ],
      "execution_count": 0,
      "outputs": []
    },
    {
      "metadata": {
        "colab_type": "code",
        "id": "tqU1d1HxAfMi",
        "colab": {}
      },
      "cell_type": "code",
      "source": [
        "tf.enable_eager_execution()\n",
        "ed = tfp.edward2"
      ],
      "execution_count": 0,
      "outputs": []
    },
    {
      "metadata": {
        "id": "0r6ciDw0Af2n",
        "colab_type": "text"
      },
      "cell_type": "markdown",
      "source": [
        "## model\n",
        "This model is just a tutorial model where $w$ and $b$ only are random variable. \n",
        "$$\n",
        "\\begin{align}\n",
        "w &\\sim \\mathcal N(3, 1)  \\\\\n",
        "b &\\sim \\mathcal N(5, 1)  \\\\\n",
        "y &= wx + b\n",
        "\\end{align}\n",
        "$$"
      ]
    },
    {
      "metadata": {
        "id": "bcvTSfy_8Cvp",
        "colab_type": "code",
        "colab": {}
      },
      "cell_type": "code",
      "source": [
        "def model(x):\n",
        "    w = ed.Normal(loc=3., scale=1., name='w')\n",
        "    b = ed.Normal(loc=5., scale=1., name='b')\n",
        "    y = w*x+b\n",
        "    return y"
      ],
      "execution_count": 0,
      "outputs": []
    },
    {
      "metadata": {
        "id": "5RHRzTS386V2",
        "colab_type": "code",
        "colab": {}
      },
      "cell_type": "code",
      "source": [
        "x = tf.linspace(0., 5., 100)"
      ],
      "execution_count": 0,
      "outputs": []
    },
    {
      "metadata": {
        "id": "E371NhiYA_Ca",
        "colab_type": "text"
      },
      "cell_type": "markdown",
      "source": [
        "### interceptor\n",
        "When we have observed (or trained) some random variables, we want to regard it as a fixed values. Using enterceptor code as below, we can let random variables to fixed values."
      ]
    },
    {
      "metadata": {
        "id": "ZH0554SL9GjL",
        "colab_type": "code",
        "colab": {}
      },
      "cell_type": "code",
      "source": [
        "def interceptor(model, *args, **kwargs):\n",
        "    name = kwargs.get('name')\n",
        "    if name == 'w':\n",
        "        kwargs['value'] = 10\n",
        "    if name == 'b':\n",
        "        kwargs['value'] = 0\n",
        "    return ed.interceptable(model)(*args, **kwargs)"
      ],
      "execution_count": 0,
      "outputs": []
    },
    {
      "metadata": {
        "id": "_31iIAvM-qih",
        "colab_type": "code",
        "colab": {}
      },
      "cell_type": "code",
      "source": [
        "# random\n",
        "y_sample1 = model(x)\n",
        "\n",
        "# random\n",
        "y_sample2 = model(x)\n",
        "\n",
        "# not random\n",
        "with ed.interception(interceptor):\n",
        "    y_value = model(x)"
      ],
      "execution_count": 0,
      "outputs": []
    },
    {
      "metadata": {
        "id": "Gcl17gVq_Ao_",
        "colab_type": "code",
        "outputId": "10e8713a-f8b0-4ffd-f9a6-2970c65195c3",
        "colab": {
          "base_uri": "https://localhost:8080/",
          "height": 392
        }
      },
      "cell_type": "code",
      "source": [
        "plt.figure(figsize=(8, 6))\n",
        "plt.plot(x.numpy(), y_sample1.numpy(), alpha=0.3)\n",
        "plt.plot(x.numpy(), y_sample2.numpy(), alpha=0.3)\n",
        "plt.plot(x.numpy(), y_value.numpy())\n",
        "plt.legend(['random', 'random', 'fixed value, w=10, b=0'])"
      ],
      "execution_count": 0,
      "outputs": [
        {
          "output_type": "execute_result",
          "data": {
            "text/plain": [
              "<matplotlib.legend.Legend at 0x7f4d87803ef0>"
            ]
          },
          "metadata": {
            "tags": []
          },
          "execution_count": 40
        },
        {
          "output_type": "display_data",
          "data": {
            "image/png": "[encoded data removed]",
            "text/plain": [
              "<matplotlib.figure.Figure at 0x7f4d878dd908>"
            ]
          },
          "metadata": {
            "tags": []
          }
        }
      ]
    }
  ]
}