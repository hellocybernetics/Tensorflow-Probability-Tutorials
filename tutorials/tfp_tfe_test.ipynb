{
 "cells": [
  {
   "cell_type": "code",
   "execution_count": 28,
   "metadata": {},
   "outputs": [],
   "source": [
    "import numpy as np\n",
    "import tensorflow as tf\n",
    "import tensorflow_probability as tfp\n",
    "import matplotlib.pyplot as plt\n",
    "import seaborn as sns\n",
    "%matplotlib inline"
   ]
  },
  {
   "cell_type": "code",
   "execution_count": 29,
   "metadata": {},
   "outputs": [],
   "source": [
    "sns.set()\n",
    "\n",
    "tfe = tf.contrib.eager\n",
    "tfd = tfp.distributions"
   ]
  },
  {
   "cell_type": "code",
   "execution_count": 4,
   "metadata": {},
   "outputs": [],
   "source": [
    "tf.enable_eager_execution()"
   ]
  },
  {
   "cell_type": "code",
   "execution_count": 71,
   "metadata": {},
   "outputs": [],
   "source": [
    "def toy_data(num_data=30):\n",
    "    \n",
    "    true_w = np.random.randn()\n",
    "    true_b = np.random.randn()\n",
    "    \n",
    "    x = (np.random.rand(num_data) - 0.5) * 10\n",
    "    y = true_w * x + true_b + 0.3 * np.random.randn(num_data)\n",
    "    \n",
    "    return x, y, true_w, true_b"
   ]
  },
  {
   "cell_type": "code",
   "execution_count": 72,
   "metadata": {},
   "outputs": [],
   "source": [
    "x, y, true_w, true_b = toy_data()"
   ]
  },
  {
   "cell_type": "code",
   "execution_count": 73,
   "metadata": {},
   "outputs": [
    {
     "data": {
      "text/plain": [
       "<matplotlib.collections.PathCollection at 0x7fda24155e48>"
      ]
     },
     "execution_count": 73,
     "metadata": {},
     "output_type": "execute_result"
    },
    {
     "data": {
      "image/png": "[encoded data removed]",
      "text/plain": [
       "<Figure size 432x288 with 1 Axes>"
      ]
     },
     "metadata": {},
     "output_type": "display_data"
    }
   ],
   "source": [
    "plt.scatter(x, y)"
   ]
  },
  {
   "cell_type": "code",
   "execution_count": 103,
   "metadata": {},
   "outputs": [],
   "source": [
    "class BayesLinearRegression(tf.keras.Model):\n",
    "    \n",
    "    def __init__(self):\n",
    "        super(BayesLinearRegression, self).__init__()\n",
    "        \n",
    "#         self.w_loc = tf.get_variable(name='w', shape=[])\n",
    "#         self.b_loc = tf.get_variable(name='b', shape=[])\n",
    "\n",
    "        self.w_loc = tfe.Variable(initial_value=tf.random_normal(shape=[]))\n",
    "        self.b_loc = tfe.Variable(initial_value=tf.random_normal(shape=[]))\n",
    "    \n",
    "    def call(self, x, num_samples=1):\n",
    "        \n",
    "        dist = self._get_dist(x)\n",
    "        ## y.shape == (num_sample, num_data)\n",
    "        y = dist.sample(num_samples)\n",
    "        return y\n",
    "    \n",
    "    def loss(self, x, y):\n",
    "        y = self(x)\n",
    "\n",
    "    def _get_dist(self, x):\n",
    "        \n",
    "        w = tfd.Normal(loc=self.w_loc, scale=1.).sample()\n",
    "        b = tfd.Normal(loc=self.b_loc, scale=1.).sample()\n",
    "        loc = w * x + b\n",
    "        return tfd.Normal(loc=loc, scale=1.)"
   ]
  },
  {
   "cell_type": "code",
   "execution_count": 105,
   "metadata": {},
   "outputs": [
    {
     "name": "stderr",
     "output_type": "stream",
     "text": [
      "/home/hikaru/.local/lib/python3.6/site-packages/tensorflow/python/util/tf_inspect.py:75: DeprecationWarning: inspect.getargspec() is deprecated, use inspect.signature() or inspect.getfullargspec()\n",
      "  return _inspect.getargspec(target)\n"
     ]
    }
   ],
   "source": [
    "model = BayesLinearRegression()\n",
    "y_predict= model(x)"
   ]
  },
  {
   "cell_type": "code",
   "execution_count": 106,
   "metadata": {},
   "outputs": [
    {
     "data": {
      "text/plain": [
       "<matplotlib.legend.Legend at 0x7fda1c632ac8>"
      ]
     },
     "execution_count": 106,
     "metadata": {},
     "output_type": "execute_result"
    },
    {
     "data": {
      "image/png": "[encoded data removed]",
      "text/plain": [
       "<Figure size 432x288 with 1 Axes>"
      ]
     },
     "metadata": {},
     "output_type": "display_data"
    }
   ],
   "source": [
    "plt.scatter(x, y)\n",
    "plt.scatter(x, y_predict)\n",
    "plt.legend([\"from_true_distribution\", \"from_model\"])"
   ]
  },
  {
   "cell_type": "code",
   "execution_count": null,
   "metadata": {},
   "outputs": [],
   "source": []
  },
  {
   "cell_type": "code",
   "execution_count": null,
   "metadata": {},
   "outputs": [],
   "source": []
  }
 ],
 "metadata": {
  "kernelspec": {
   "display_name": "Python 3",
   "language": "python",
   "name": "python3"
  },
  "language_info": {
   "codemirror_mode": {
    "name": "ipython",
    "version": 3
   },
   "file_extension": ".py",
   "mimetype": "text/x-python",
   "name": "python",
   "nbconvert_exporter": "python",
   "pygments_lexer": "ipython3",
   "version": "3.6.5"
  }
 },
 "nbformat": 4,
 "nbformat_minor": 2
}
