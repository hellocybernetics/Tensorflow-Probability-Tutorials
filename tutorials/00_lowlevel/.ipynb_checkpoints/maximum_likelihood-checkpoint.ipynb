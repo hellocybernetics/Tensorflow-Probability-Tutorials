{
 "cells": [
  {
   "cell_type": "markdown",
   "metadata": {
    "colab_type": "text",
    "id": "view-in-github"
   },
   "source": [
    "<a href=\"https://colab.research.google.com/github/hellocybernetics/Tensorflow-Probability-Tutorials/blob/master/tutorials/00_lowlevel/basic_tensorflow_distributions.ipynb\" target=\"_parent\"><img src=\"https://colab.research.google.com/assets/colab-badge.svg\" alt=\"Open In Colab\"/></a>"
   ]
  },
  {
   "cell_type": "code",
   "execution_count": 0,
   "metadata": {
    "colab": {},
    "colab_type": "code",
    "id": "XxMmpc7cyDK5"
   },
   "outputs": [],
   "source": [
    "import tensorflow as tf\n",
    "import tensorflow_probability as tfp\n",
    "import matplotlib.pyplot as plt\n",
    "import seaborn as sns\n",
    "%matplotlib inline"
   ]
  },
  {
   "cell_type": "code",
   "execution_count": 0,
   "metadata": {
    "colab": {},
    "colab_type": "code",
    "id": "bm0thPEUyTGK"
   },
   "outputs": [],
   "source": [
    "tfd = tfp.distributions\n",
    "tfb = tfp.bijectors\n",
    "tf.enable_eager_execution()"
   ]
  },
  {
   "cell_type": "markdown",
   "metadata": {
    "colab_type": "text",
    "id": "_M01mCg1zF9T"
   },
   "source": [
    "### 正規分布\n",
    "$$\n",
    "\\begin{align}\n",
    "\\mathcal N(x\\mid \\mu, \\sigma) &= Z^{-1} \\exp \\left( -\\frac{ (x - \\mu)^2} {2 \\sigma^2}\\right) \\\\\\\n",
    "Z &= \\sqrt{2 \\pi \\sigma^2}\n",
    "\\end{align}\n",
    "$$"
   ]
  },
  {
   "cell_type": "code",
   "execution_count": 0,
   "metadata": {
    "colab": {},
    "colab_type": "code",
    "id": "EeG_yVFmyk5d"
   },
   "outputs": [],
   "source": [
    "normal = tfd.Normal(loc=0, scale=1.0)"
   ]
  },
  {
   "cell_type": "markdown",
   "metadata": {
    "colab_type": "text",
    "id": "5vhpjXyl0kii"
   },
   "source": [
    "#### 標準正規分布からのサンプリング\n",
    "$\\mu = 0, \\sigma=1$の場合を標準正規分布と呼ぶ。\n",
    "データを実際に1000個サンプリングして、プロットしてみる。\n",
    "\n",
    "$$\n",
    "x \\sim \\mathcal N(x\\mid 0,1) \n",
    "$$"
   ]
  },
  {
   "cell_type": "code",
   "execution_count": 4,
   "metadata": {
    "colab": {
     "base_uri": "https://localhost:8080/",
     "height": 391
    },
    "colab_type": "code",
    "id": "Jd58LlVL0NzD",
    "outputId": "db9a0d82-70a7-4252-ceca-b68f7d00626a"
   },
   "outputs": [
    {
     "data": {
      "text/plain": [
       "(array([  1.,   5.,   7.,  18.,  46.,  91., 131., 169., 189., 146.,  99.,\n",
       "         61.,  29.,   7.,   1.]),\n",
       " array([-3.67569184, -3.21329405, -2.75089625, -2.28849845, -1.82610065,\n",
       "        -1.36370285, -0.90130506, -0.43890726,  0.02349054,  0.48588834,\n",
       "         0.94828614,  1.41068393,  1.87308173,  2.33547953,  2.79787733,\n",
       "         3.26027513]),\n",
       " <a list of 15 Patch objects>)"
      ]
     },
     "execution_count": 4,
     "metadata": {
      "tags": []
     },
     "output_type": "execute_result"
    },
    {
     "data": {
      "image/png": "[encoded data removed]",
      "text/plain": [
       "<matplotlib.figure.Figure at 0x7f565d515b00>"
      ]
     },
     "metadata": {
      "tags": []
     },
     "output_type": "display_data"
    }
   ],
   "source": [
    "samples = normal.sample(1000)\n",
    "plt.hist(samples.numpy(), bins=15, alpha=0.5)"
   ]
  },
  {
   "cell_type": "markdown",
   "metadata": {
    "colab_type": "text",
    "id": "DnAKOnsI1Gl8"
   },
   "source": [
    "#### 尤度の計算\n",
    "サンプリングされた実現値 $x_i$ の尤度 ${\\rm likelihood}(x_i, \\mu, \\sigma)$ は下記の式で計算できる。\n",
    "\n",
    "$$\n",
    "\\begin{align}\n",
    "{\\rm likelihood}(x_i, \\mu, \\sigma)& =  \\mathcal N(x_i∣\\mu ,\\sigma) \\\\\n",
    "& =\\frac{1}{\\sqrt{2\\pi \\sigma^2}} \\exp \\left(−\\frac{(x_i - \\mu)^2}{2\\sigma^2}\\right)\n",
    "\\end{align}\n",
    "$$\n",
    "\n",
    "これは単に正規分布の式に$x_i$を代入しているだけである。これで、$x_i$が実現して手元に手に入る確率が計算される。仮に N個のサンプル $D =\\{x_1, \\cdots, x_N\\} $ を観測したのであれば、$D$ 全体の尤度 ${\\rm likelihood} (D)$は、それぞれのデータの尤度の積である。\n",
    "\n",
    "$$\n",
    "\\begin{align}\n",
    "{\\rm likelihood}(D, \\mu, \\sigma)& = \\prod_{i=1}^N \\mathcal N(x_i∣\\mu, \\sigma) \\\\\n",
    "& =\\prod_{i=1}^N \\frac{1}{\\sqrt{2\\pi \\sigma^2}} \\exp \\left(−\\frac{(x_i-\\mu)^2}{2\\sigma^2}\\right)\n",
    "\\end{align}\n",
    "$$\n",
    "\n",
    "こうしていいのは、各々のデータ $x_i $は互いに独立であると考えているためである。通常の場合 $D$ をよく表すような確率分布を決めるために $\\mu, \\sigma$を求めることを推定と呼ぶ。尤度が大きくなるような $\\mu, \\sigma$ を選ぶことができたら、$ D $ を出現させる確率が高い確率分布を（正規分布の中から）見つけたと言える。\n",
    "\n",
    "これを最尤推定と呼ぶ。尤度を $D$ を既知として固定し、$\\mu, \\sigma$を変えることで最大化するわけだが、$\\prod_{i=1}^N$がなかなか曲者に見える。\n",
    "\n",
    "\n",
    "#### 対数尤度\n",
    "そこで最大化では通常、対数尤度と呼ばれる下記の式を代わりに使う。\n",
    "\n",
    "$$\n",
    "{\\rm log\\ likelihood}(D, \\mu, \\sigma)\n",
    "=-\\frac{N}{2}\\log(2\\pi\\sigma^2) - \\frac{1}{2\\sigma^2}\\sum_{i=1}^N (x_i-\\mu)^2  \n",
    "$$\n",
    "\n",
    "単に尤度の対数を取っただけである。対数を取ると「掛け算は足し算」、「割り算は引き算」、「累乗は掛け算」になることを使えば簡単に上記の式が出てくる。"
   ]
  },
  {
   "cell_type": "code",
   "execution_count": 5,
   "metadata": {
    "colab": {
     "base_uri": "https://localhost:8080/",
     "height": 107
    },
    "colab_type": "code",
    "id": "n0aoUtfA4cmp",
    "outputId": "a61e8305-30f8-440a-c50f-75eadab63416"
   },
   "outputs": [
    {
     "name": "stdout",
     "output_type": "stream",
     "text": [
      "log likelihood of each data \n",
      " [-1.0135447 -1.3056052 -1.1517067 -1.1054411 -0.9553835 -1.924545\n",
      " -1.3973554 -2.063117  -1.2424215 -3.0108275]\n",
      "log likelihood of whole data \n",
      " -1438.2146\n"
     ]
    }
   ],
   "source": [
    "likelihood = normal.log_prob(samples)\n",
    "print(\"log likelihood of each data \\n\", likelihood.numpy()[0:10])\n",
    "print(\"log likelihood of whole data \\n\", likelihood.numpy().sum())"
   ]
  },
  {
   "cell_type": "markdown",
   "metadata": {
    "colab_type": "text",
    "id": "PTmJxseN6xEt"
   },
   "source": [
    "#### TensorFlow Probabilityで最尤推定実践"
   ]
  },
  {
   "cell_type": "code",
   "execution_count": 6,
   "metadata": {
    "colab": {
     "base_uri": "https://localhost:8080/",
     "height": 391
    },
    "colab_type": "code",
    "id": "0mnSKYKb7miN",
    "outputId": "d69feb08-4b56-4559-c4b8-adc67e9288f8"
   },
   "outputs": [
    {
     "data": {
      "text/plain": [
       "(array([ 3.,  5., 15., 34., 27., 41., 33., 37., 36., 30., 24.,  7.,  3.,\n",
       "         2.,  3.]),\n",
       " array([-1.03591585, -0.34811122,  0.33969342,  1.02749805,  1.71530269,\n",
       "         2.40310733,  3.09091196,  3.7787166 ,  4.46652123,  5.15432587,\n",
       "         5.8421305 ,  6.52993514,  7.21773977,  7.90554441,  8.59334904,\n",
       "         9.28115368]),\n",
       " <a list of 15 Patch objects>)"
      ]
     },
     "execution_count": 6,
     "metadata": {
      "tags": []
     },
     "output_type": "execute_result"
    },
    {
     "data": {
      "image/png": "[encoded data removed]",
      "text/plain": [
       "<matplotlib.figure.Figure at 0x7f5672b9b5c0>"
      ]
     },
     "metadata": {
      "tags": []
     },
     "output_type": "display_data"
    }
   ],
   "source": [
    "real_data = tfd.Normal(loc=3.5, scale=2.0).sample(300)\n",
    "plt.hist(real_data, bins=15)"
   ]
  },
  {
   "cell_type": "code",
   "execution_count": 0,
   "metadata": {
    "colab": {},
    "colab_type": "code",
    "id": "jB6YLyTW7xRk"
   },
   "outputs": [],
   "source": [
    "mu = tf.Variable(0.)\n",
    "sigma = tf.Variable(1.)\n",
    "\n",
    "def log_likelihood(obs_data, variable_loc, variable_scale):\n",
    "    model_dist = tfd.Normal(loc=variable_loc, scale=variable_scale)\n",
    "    return tf.reduce_sum(model_dist.log_prob(obs_data))\n",
    "\n",
    "loss = lambda mu, sigma: - log_likelihood(obs_data=real_data, \n",
    "                                          variable_loc=mu, \n",
    "                                          variable_scale=sigma)"
   ]
  },
  {
   "cell_type": "code",
   "execution_count": 29,
   "metadata": {
    "colab": {
     "base_uri": "https://localhost:8080/",
     "height": 197
    },
    "colab_type": "code",
    "id": "fY6O28gL82GZ",
    "outputId": "67079aab-e332-4a04-9cd2-b513b5d74062"
   },
   "outputs": [
    {
     "name": "stdout",
     "output_type": "stream",
     "text": [
      "likelihood  -2798.1853\n",
      "likelihood  -1115.3448\n",
      "likelihood  -839.0244\n",
      "likelihood  -730.2854\n",
      "likelihood  -675.32416\n",
      "likelihood  -643.6939\n",
      "likelihood  -625.5758\n",
      "likelihood  -619.2915\n",
      "likelihood  -618.7661\n",
      "likelihood  -618.7619\n"
     ]
    }
   ],
   "source": [
    "optimizer = tf.train.AdamOptimizer()\n",
    "value_and_grads = tf.contrib.eager.implicit_value_and_gradients(loss)\n",
    "\n",
    "for i in range(10000):\n",
    "    loss, grads = value_and_grads(mu, sigma)\n",
    "    optimizer.apply_gradients(grads)\n",
    "    \n",
    "    if i % 1000 == 0:\n",
    "        print(\"likelihood \", -loss.numpy())"
   ]
  },
  {
   "cell_type": "code",
   "execution_count": 0,
   "metadata": {
    "colab": {},
    "colab_type": "code",
    "id": "YM3i53s591IY"
   },
   "outputs": [],
   "source": [
    "trained_dist = tfd.Normal(loc=mu, scale=sigma)\n",
    "trained_sample = trained_dist.sample(300)"
   ]
  },
  {
   "cell_type": "code",
   "execution_count": 31,
   "metadata": {
    "colab": {
     "base_uri": "https://localhost:8080/",
     "height": 391
    },
    "colab_type": "code",
    "id": "f8Dhewu-_Jpi",
    "outputId": "1f2e17cf-c40e-443b-d9f7-73f79981ac37"
   },
   "outputs": [
    {
     "data": {
      "text/plain": [
       "(array([ 7.,  8.,  9., 18., 32., 38., 42., 43., 30., 26., 22., 15.,  6.,\n",
       "         1.,  3.]),\n",
       " array([-1.1429944 , -0.46465575,  0.21368291,  0.89202156,  1.57036022,\n",
       "         2.24869887,  2.92703753,  3.60537618,  4.28371483,  4.96205349,\n",
       "         5.64039214,  6.3187308 ,  6.99706945,  7.67540811,  8.35374676,\n",
       "         9.03208542]),\n",
       " <a list of 15 Patch objects>)"
      ]
     },
     "execution_count": 31,
     "metadata": {
      "tags": []
     },
     "output_type": "execute_result"
    },
    {
     "data": {
      "image/png": "[encoded data removed]",
      "text/plain": [
       "<matplotlib.figure.Figure at 0x7f5657a892e8>"
      ]
     },
     "metadata": {
      "tags": []
     },
     "output_type": "display_data"
    }
   ],
   "source": [
    "plt.hist(real_data, bins=15, alpha=0.5)\n",
    "plt.hist(trained_sample, bins=15, alpha=0.5)"
   ]
  }
 ],
 "metadata": {
  "colab": {
   "collapsed_sections": [],
   "include_colab_link": true,
   "name": "basic_tensorflow_distributions.ipynb",
   "provenance": [],
   "version": "0.3.2"
  },
  "kernelspec": {
   "display_name": "Python 3",
   "language": "python",
   "name": "python3"
  },
  "language_info": {
   "codemirror_mode": {
    "name": "ipython",
    "version": 3
   },
   "file_extension": ".py",
   "mimetype": "text/x-python",
   "name": "python",
   "nbconvert_exporter": "python",
   "pygments_lexer": "ipython3",
   "version": "3.6.7"
  }
 },
 "nbformat": 4,
 "nbformat_minor": 1
}
