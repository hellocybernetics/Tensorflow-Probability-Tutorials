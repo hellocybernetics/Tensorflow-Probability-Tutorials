{
  "nbformat": 4,
  "nbformat_minor": 0,
  "metadata": {
    "colab": {
      "name": "basic_tensorflow_distributions.ipynb",
      "version": "0.3.2",
      "provenance": [],
      "include_colab_link": true
    },
    "kernelspec": {
      "name": "python3",
      "display_name": "Python 3"
    }
  },
  "cells": [
    {
      "cell_type": "markdown",
      "metadata": {
        "id": "view-in-github",
        "colab_type": "text"
      },
      "source": [
        "<a href=\"https://colab.research.google.com/github/hellocybernetics/Tensorflow-Probability-Tutorials/blob/master/basic_tensorflow_distributions.ipynb\" target=\"_parent\"><img src=\"https://colab.research.google.com/assets/colab-badge.svg\" alt=\"Open In Colab\"/></a>"
      ]
    },
    {
      "metadata": {
        "id": "XxMmpc7cyDK5",
        "colab_type": "code",
        "colab": {}
      },
      "cell_type": "code",
      "source": [
        "import tensorflow as tf\n",
        "import tensorflow_probability as tfp\n",
        "import matplotlib.pyplot as plt\n",
        "import seaborn as sns\n",
        "%matplotlib inline"
      ],
      "execution_count": 0,
      "outputs": []
    },
    {
      "metadata": {
        "id": "bm0thPEUyTGK",
        "colab_type": "code",
        "colab": {}
      },
      "cell_type": "code",
      "source": [
        "tfd = tfp.distributions\n",
        "tfb = tfp.bijectors\n",
        "tf.enable_eager_execution()"
      ],
      "execution_count": 0,
      "outputs": []
    },
    {
      "metadata": {
        "id": "_M01mCg1zF9T",
        "colab_type": "text"
      },
      "cell_type": "markdown",
      "source": [
        "### 正規分布\n",
        "$$\n",
        "\\begin{align}\n",
        "\\mathcal N(x\\mid \\mu, \\sigma) &= Z^{-1} \\exp \\left( -\\frac{ (x - \\mu)^2} {2 \\sigma^2}\\right) \\\\\\\n",
        "Z &= \\sqrt{2 \\pi \\sigma^2}\n",
        "\\end{align}\n",
        "$$"
      ]
    },
    {
      "metadata": {
        "id": "EeG_yVFmyk5d",
        "colab_type": "code",
        "colab": {}
      },
      "cell_type": "code",
      "source": [
        "normal = tfd.Normal(loc=0, scale=1.0)"
      ],
      "execution_count": 0,
      "outputs": []
    },
    {
      "metadata": {
        "id": "5vhpjXyl0kii",
        "colab_type": "text"
      },
      "cell_type": "markdown",
      "source": [
        "#### 標準正規分布からのサンプリング\n",
        "$\\mu = 0, \\sigma=1$の場合を標準正規分布と呼ぶ。\n",
        "データを実際に1000個サンプリングして、プロットしてみる。\n",
        "\n",
        "$$\n",
        "x \\sim \\mathcal N(x\\mid 0,1) \n",
        "$$"
      ]
    },
    {
      "metadata": {
        "id": "Jd58LlVL0NzD",
        "colab_type": "code",
        "colab": {
          "base_uri": "https://localhost:8080/",
          "height": 391
        },
        "outputId": "e58a7b27-145a-44a5-db3e-83ea2d90aa1c"
      },
      "cell_type": "code",
      "source": [
        "samples = normal.sample(1000)\n",
        "plt.hist(samples.numpy(), bins=15, alpha=0.5)"
      ],
      "execution_count": 21,
      "outputs": [
        {
          "output_type": "execute_result",
          "data": {
            "text/plain": [
              "(array([  4.,  14.,  23.,  30.,  79., 134., 159., 181., 147., 118.,  60.,\n",
              "         29.,  11.,   6.,   5.]),\n",
              " array([-3.13001657, -2.70420047, -2.27838438, -1.85256829, -1.4267522 ,\n",
              "        -1.00093611, -0.57512002, -0.14930393,  0.27651216,  0.70232825,\n",
              "         1.12814434,  1.55396043,  1.97977653,  2.40559262,  2.83140871,\n",
              "         3.2572248 ]),\n",
              " <a list of 15 Patch objects>)"
            ]
          },
          "metadata": {
            "tags": []
          },
          "execution_count": 21
        },
        {
          "output_type": "display_data",
          "data": {
            "image/png": "[encoded data removed]",
            "text/plain": [
              "<matplotlib.figure.Figure at 0x7f0765cb4240>"
            ]
          },
          "metadata": {
            "tags": []
          }
        }
      ]
    },
    {
      "metadata": {
        "id": "DnAKOnsI1Gl8",
        "colab_type": "text"
      },
      "cell_type": "markdown",
      "source": [
        "#### 尤度の計算\n",
        "サンプリングされた実現値 $x_i$ の尤度 ${\\rm likelihood}(x_i, \\mu, \\sigma)$ は下記の式で計算できる。\n",
        "\n",
        "$$\n",
        "\\begin{align}\n",
        "{\\rm likelihood}(x_i, \\mu, \\sigma)& =  \\mathcal N(x_i∣\\mu ,\\sigma) \\\\\n",
        "& =\\frac{1}{\\sqrt{2\\pi \\sigma^2}} \\exp \\left(−\\frac{(x_i - \\mu)^2}{2\\sigma^2}\\right)\n",
        "\\end{align}\n",
        "$$\n",
        "\n",
        "これは単に正規分布の式に$x_i$を代入しているだけである。これで、$x_i$が実現して手元に手に入る確率が計算される。仮に N個のサンプル $D =\\{x_1, \\cdots, x_N\\} $ を観測したのであれば、$D$ 全体の尤度 ${\\rm likelihood} (D)$は、それぞれのデータの尤度の積である。\n",
        "\n",
        "$$\n",
        "\\begin{align}\n",
        "{\\rm likelihood}(D, \\mu, \\sigma)& = \\prod_{i=1}^N \\mathcal N(x_i∣\\mu, \\sigma) \\\\\n",
        "& =\\prod_{i=1}^N \\frac{1}{\\sqrt{2\\pi \\sigma^2}} \\exp \\left(−\\frac{(x_i-\\mu)^2}{2\\sigma^2}\\right)\n",
        "\\end{align}\n",
        "$$\n",
        "\n",
        "こうしていいのは、各々のデータ $x_i $は互いに独立であると考えているためである。通常の場合 $D$ をよく表すような確率分布を決めるために $\\mu, \\sigma$を求めることを推定と呼ぶ。尤度が大きくなるような $\\mu, \\sigma$ を選ぶことができたら、$ D $ を出現させる確率が高い確率分布を（正規分布の中から）見つけたと言える。\n",
        "\n",
        "これを最尤推定と呼ぶ。尤度を $D$ を既知として固定し、$\\mu, \\sigma$を変えることで最大化するわけだが、$\\prod_{i=1}^N$がなかなか曲者に見える。\n",
        "\n",
        "\n",
        "#### 対数尤度\n",
        "そこで最大化では通常、対数尤度と呼ばれる下記の式を代わりに使う。\n",
        "\n",
        "$$\n",
        "{\\rm log\\ likelihood}(D, \\mu, \\sigma)\n",
        "=-\\frac{N}{2}\\log(2\\pi\\sigma^2) - \\frac{1}{2\\sigma^2}\\sum_{i=1}^N (x_i-\\mu)^2  \n",
        "$$\n",
        "\n",
        "単に尤度の対数を取っただけである。対数を取ると「掛け算は足し算」、「割り算は引き算」、「累乗は掛け算」になることを使えば簡単に上記の式が出てくる。"
      ]
    },
    {
      "metadata": {
        "id": "n0aoUtfA4cmp",
        "colab_type": "code",
        "colab": {
          "base_uri": "https://localhost:8080/",
          "height": 107
        },
        "outputId": "5976b496-b772-4a49-82bb-0d324aa1ccdc"
      },
      "cell_type": "code",
      "source": [
        "likelihood = normal.log_prob(samples)\n",
        "print(\"log likelihood of each data \\n\", likelihood.numpy()[0:10])\n",
        "print(\"log likelihood of whole data \\n\", likelihood.numpy().sum())"
      ],
      "execution_count": 22,
      "outputs": [
        {
          "output_type": "stream",
          "text": [
            "log likelihood of each data \n",
            " [-0.98887724 -0.9246708  -0.94481987 -0.95089626 -1.073565   -4.172094\n",
            " -0.98895293 -1.8417324  -1.350993   -0.93244195]\n",
            "log likelihood of whole data \n",
            " -1413.1373\n"
          ],
          "name": "stdout"
        }
      ]
    },
    {
      "metadata": {
        "id": "PTmJxseN6xEt",
        "colab_type": "text"
      },
      "cell_type": "markdown",
      "source": [
        "#### TensorFlow Probabilityで最尤推定実践"
      ]
    },
    {
      "metadata": {
        "id": "0mnSKYKb7miN",
        "colab_type": "code",
        "colab": {
          "base_uri": "https://localhost:8080/",
          "height": 391
        },
        "outputId": "4124c039-e182-4fd4-83e1-9d5be74d0ca2"
      },
      "cell_type": "code",
      "source": [
        "real_data = tfd.Normal(loc=3.5, scale=2.0).sample(300)\n",
        "plt.hist(real_data, bins=15)"
      ],
      "execution_count": 46,
      "outputs": [
        {
          "output_type": "execute_result",
          "data": {
            "text/plain": [
              "(array([ 1.,  0.,  3.,  9., 23., 25., 56., 52., 50., 36., 27.,  8.,  8.,\n",
              "         0.,  2.]),\n",
              " array([-3.41854715, -2.50274626, -1.58694537, -0.67114449,  0.2446564 ,\n",
              "         1.16045729,  2.07625818,  2.99205907,  3.90785996,  4.82366085,\n",
              "         5.73946174,  6.65526263,  7.57106352,  8.48686441,  9.4026653 ,\n",
              "        10.31846619]),\n",
              " <a list of 15 Patch objects>)"
            ]
          },
          "metadata": {
            "tags": []
          },
          "execution_count": 46
        },
        {
          "output_type": "display_data",
          "data": {
            "image/png": "[encoded data removed]",
            "text/plain": [
              "<matplotlib.figure.Figure at 0x7f076519f9e8>"
            ]
          },
          "metadata": {
            "tags": []
          }
        }
      ]
    },
    {
      "metadata": {
        "id": "jB6YLyTW7xRk",
        "colab_type": "code",
        "colab": {}
      },
      "cell_type": "code",
      "source": [
        "mu = tf.Variable(0.)\n",
        "sigma = tf.Variable(1.)\n",
        "\n",
        "def log_likelihood(obs_data, variable_loc, variable_scale):\n",
        "    model_dist = tfd.Normal(loc=variable_loc, scale=variable_scale)\n",
        "    return tf.reduce_sum(model_dist.log_prob(obs_data))\n",
        "\n",
        "loss = lambda mu, sigma: - log_likelihood(obs_data=real_data, \n",
        "                                          variable_loc=mu, \n",
        "                                          variable_scale=sigma)"
      ],
      "execution_count": 0,
      "outputs": []
    },
    {
      "metadata": {
        "id": "fY6O28gL82GZ",
        "colab_type": "code",
        "colab": {
          "base_uri": "https://localhost:8080/",
          "height": 197
        },
        "outputId": "bc711c51-51c8-40de-f464-d869c0f1a07a"
      },
      "cell_type": "code",
      "source": [
        "optimizer = tf.train.AdamOptimizer()\n",
        "value_and_grads = tf.contrib.eager.implicit_value_and_gradients(loss)\n",
        "\n",
        "for i in range(10000):\n",
        "    loss, grads = value_and_grads(mu, sigma)\n",
        "    optimizer.apply_gradients(grads)\n",
        "    \n",
        "    if i % 1000 == 0:\n",
        "        print(\"likelihood \", - loss.numpy())"
      ],
      "execution_count": 48,
      "outputs": [
        {
          "output_type": "stream",
          "text": [
            "likelihood  -2837.9133\n",
            "likelihood  -1132.6304\n",
            "likelihood  -852.5217\n",
            "likelihood  -743.1271\n",
            "likelihood  -689.1488\n",
            "likelihood  -659.8075\n",
            "likelihood  -644.32605\n",
            "likelihood  -638.95447\n",
            "likelihood  -638.3823\n",
            "likelihood  -638.37445\n"
          ],
          "name": "stdout"
        }
      ]
    },
    {
      "metadata": {
        "id": "YM3i53s591IY",
        "colab_type": "code",
        "colab": {}
      },
      "cell_type": "code",
      "source": [
        "trained_dist = tfd.Normal(loc=mu, scale=sigma)\n",
        "trained_sample = trained_dist.sample(300)"
      ],
      "execution_count": 0,
      "outputs": []
    },
    {
      "metadata": {
        "id": "f8Dhewu-_Jpi",
        "colab_type": "code",
        "colab": {
          "base_uri": "https://localhost:8080/",
          "height": 391
        },
        "outputId": "80251000-a2a2-4950-ba51-af33acb3ca62"
      },
      "cell_type": "code",
      "source": [
        "plt.hist(real_data, bins=15, alpha=0.5)\n",
        "plt.hist(trained_sample, bins=15, alpha=0.5)"
      ],
      "execution_count": 51,
      "outputs": [
        {
          "output_type": "execute_result",
          "data": {
            "text/plain": [
              "(array([ 4.,  3.,  5., 18., 34., 37., 35., 53., 40., 28., 19., 16.,  4.,\n",
              "         3.,  1.]),\n",
              " array([-1.90442777, -1.13670715, -0.36898653,  0.39873409,  1.16645471,\n",
              "         1.93417533,  2.70189595,  3.46961657,  4.23733719,  5.00505781,\n",
              "         5.77277843,  6.54049905,  7.30821967,  8.07594029,  8.84366091,\n",
              "         9.61138153]),\n",
              " <a list of 15 Patch objects>)"
            ]
          },
          "metadata": {
            "tags": []
          },
          "execution_count": 51
        },
        {
          "output_type": "display_data",
          "data": {
            "image/png": "[encoded data removed]",
            "text/plain": [
              "<matplotlib.figure.Figure at 0x7f07650ef630>"
            ]
          },
          "metadata": {
            "tags": []
          }
        }
      ]
    },
    {
      "metadata": {
        "id": "fW2b66am_S72",
        "colab_type": "code",
        "colab": {}
      },
      "cell_type": "code",
      "source": [
        ""
      ],
      "execution_count": 0,
      "outputs": []
    }
  ]
}