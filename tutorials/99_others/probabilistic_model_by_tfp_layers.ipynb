{
  "nbformat": 4,
  "nbformat_minor": 0,
  "metadata": {
    "colab": {
      "name": "probabilistic_model_by_tfp_layers.ipynb",
      "version": "0.3.2",
      "provenance": [],
      "include_colab_link": true
    },
    "kernelspec": {
      "name": "python3",
      "display_name": "Python 3"
    }
  },
  "cells": [
    {
      "cell_type": "markdown",
      "metadata": {
        "id": "view-in-github",
        "colab_type": "text"
      },
      "source": [
        "<a href=\"https://colab.research.google.com/github/hellocybernetics/Tensorflow-Probability-Tutorials/blob/master/tutorials/99_others/probabilistic_model_by_tfp_layers.ipynb\" target=\"_parent\"><img src=\"https://colab.research.google.com/assets/colab-badge.svg\" alt=\"Open In Colab\"/></a>"
      ]
    },
    {
      "metadata": {
        "id": "PToRtUfKhkgX",
        "colab_type": "code",
        "colab": {}
      },
      "cell_type": "code",
      "source": [
        "!pip install -q --upgrade tf-nightly-2.0-preview\n",
        "!pip install -q tfp-nightly"
      ],
      "execution_count": 0,
      "outputs": []
    },
    {
      "metadata": {
        "id": "XLrt-DYZhsuB",
        "colab_type": "text"
      },
      "cell_type": "markdown",
      "source": [
        "## TFP 基本"
      ]
    },
    {
      "metadata": {
        "id": "rZgkVwaw2TRn",
        "colab_type": "code",
        "colab": {}
      },
      "cell_type": "code",
      "source": [
        "import tensorflow as tf\n",
        "import tensorflow_probability as tfp\n",
        "import numpy as np\n",
        "import matplotlib.pyplot as plt\n",
        "\n",
        "tfk = tf.keras\n",
        "tfkl = tf.keras.layers\n",
        "tfd = tfp.distributions\n",
        "tfpl = tfp.layers"
      ],
      "execution_count": 0,
      "outputs": []
    },
    {
      "metadata": {
        "id": "dJHXvcW1onZk",
        "colab_type": "text"
      },
      "cell_type": "markdown",
      "source": [
        "### 単回帰\n",
        "パラメータは $w_\\mu, w_\\sigma, b_\\mu, b_\\sigma$ の合計4つ。\n",
        "\n",
        "$$\n",
        "p(y\\mid x, w_\\mu, w_\\sigma, b_\\mu, b_\\sigma) = {\\mathcal N} (y \\mid w_\\mu x + b_\\mu,  w_\\sigma x+b_\\sigma)\n",
        "$$"
      ]
    },
    {
      "metadata": {
        "id": "wR83I3Vlh2J2",
        "colab_type": "code",
        "colab": {}
      },
      "cell_type": "code",
      "source": [
        "input_dim = 1\n",
        "output_dim = 1\n",
        "\n",
        "model = tfk.Sequential([\n",
        "    tfkl.InputLayer([input_dim]),\n",
        "    tfkl.Dense(tfpl.IndependentNormal.params_size(output_dim)),\n",
        "    tfpl.IndependentNormal(output_dim)\n",
        "])"
      ],
      "execution_count": 0,
      "outputs": []
    },
    {
      "metadata": {
        "id": "SshzZfaPoGl_",
        "colab_type": "code",
        "colab": {
          "base_uri": "https://localhost:8080/",
          "height": 233
        },
        "outputId": "b4209638-0c2d-4a5f-a5ff-f2bb1590444f"
      },
      "cell_type": "code",
      "source": [
        "model.summary() "
      ],
      "execution_count": 4,
      "outputs": [
        {
          "output_type": "stream",
          "text": [
            "Model: \"sequential\"\n",
            "_________________________________________________________________\n",
            "Layer (type)                 Output Shape              Param #   \n",
            "=================================================================\n",
            "dense (Dense)                (None, 2)                 4         \n",
            "_________________________________________________________________\n",
            "independent_normal (Independ ((None, 1), (None, 1))    0         \n",
            "=================================================================\n",
            "Total params: 4\n",
            "Trainable params: 4\n",
            "Non-trainable params: 0\n",
            "_________________________________________________________________\n"
          ],
          "name": "stdout"
        }
      ]
    },
    {
      "metadata": {
        "id": "VbyJCeW8h7kw",
        "colab_type": "code",
        "colab": {}
      },
      "cell_type": "code",
      "source": [
        "X = tf.constant([[3.],\n",
        "                 [2.],\n",
        "                 [-5.]])"
      ],
      "execution_count": 0,
      "outputs": []
    },
    {
      "metadata": {
        "id": "hegJ0EM7nt57",
        "colab_type": "code",
        "colab": {
          "base_uri": "https://localhost:8080/",
          "height": 35
        },
        "outputId": "697cd30b-6aa3-42c4-8119-8c770c2bb670"
      },
      "cell_type": "code",
      "source": [
        "model(X)"
      ],
      "execution_count": 6,
      "outputs": [
        {
          "output_type": "execute_result",
          "data": {
            "text/plain": [
              "<tfp.distributions.Independent 'Independentsequential/independent_normal/IndependentNormal/Normal/' batch_shape=(3,) event_shape=(1,) dtype=float32>"
            ]
          },
          "metadata": {
            "tags": []
          },
          "execution_count": 6
        }
      ]
    },
    {
      "metadata": {
        "id": "2It2hTA_Eads",
        "colab_type": "code",
        "colab": {
          "base_uri": "https://localhost:8080/",
          "height": 89
        },
        "outputId": "b90197e5-8cfe-4356-dfe5-06555ae2c8af"
      },
      "cell_type": "code",
      "source": [
        "model(X).sample()"
      ],
      "execution_count": 7,
      "outputs": [
        {
          "output_type": "execute_result",
          "data": {
            "text/plain": [
              "<tf.Tensor: id=236, shape=(3, 1), dtype=float32, numpy=\n",
              "array([[-1.1187897 ],\n",
              "       [ 0.34330684],\n",
              "       [ 4.023557  ]], dtype=float32)>"
            ]
          },
          "metadata": {
            "tags": []
          },
          "execution_count": 7
        }
      ]
    },
    {
      "metadata": {
        "id": "0EyH21rUnwVx",
        "colab_type": "text"
      },
      "cell_type": "markdown",
      "source": [
        "### 重回帰\n",
        "入力 $D$ 次元とすれば、$2D+2 = 2(D+1)$ 個のパラメータ（平均、分散を表すための$D$ 次元重みベクトルの2つと、2個のバイアスパラメータ ）を持つ。\n",
        "\n",
        "$$\n",
        "p(y\\mid {\\bf x, w_\\mu, w_\\sigma}, b_\\mu, b_\\sigma)\n",
        "= \\mathcal N(y \\mid {\\bf w^T_\\mu x} + b_\\mu, {\\bf w^T_\\sigma x} + b_\\sigma)\n",
        "$$"
      ]
    },
    {
      "metadata": {
        "id": "oRMqNWPovp9x",
        "colab_type": "code",
        "colab": {}
      },
      "cell_type": "code",
      "source": [
        "input_dim = 3\n",
        "output_dim = 1\n",
        "\n",
        "model = tfk.Sequential([\n",
        "    tfkl.InputLayer([input_dim]),\n",
        "    tfkl.Dense(tfpl.IndependentNormal.params_size(output_dim)),\n",
        "    tfpl.IndependentNormal(output_dim)\n",
        "])"
      ],
      "execution_count": 0,
      "outputs": []
    },
    {
      "metadata": {
        "id": "fJ57O24lvvFw",
        "colab_type": "code",
        "colab": {
          "base_uri": "https://localhost:8080/",
          "height": 233
        },
        "outputId": "1892d53d-618c-432e-88dd-6e59065cda2c"
      },
      "cell_type": "code",
      "source": [
        "model.summary()"
      ],
      "execution_count": 9,
      "outputs": [
        {
          "output_type": "stream",
          "text": [
            "Model: \"sequential_1\"\n",
            "_________________________________________________________________\n",
            "Layer (type)                 Output Shape              Param #   \n",
            "=================================================================\n",
            "dense_1 (Dense)              (None, 2)                 8         \n",
            "_________________________________________________________________\n",
            "independent_normal_1 (Indepe ((None, 1), (None, 1))    0         \n",
            "=================================================================\n",
            "Total params: 8\n",
            "Trainable params: 8\n",
            "Non-trainable params: 0\n",
            "_________________________________________________________________\n"
          ],
          "name": "stdout"
        }
      ]
    },
    {
      "metadata": {
        "id": "f43-SJlIvw8v",
        "colab_type": "code",
        "colab": {}
      },
      "cell_type": "code",
      "source": [
        "X = tf.constant([[3., -4., 1.],\n",
        "                 [2., 2., 2.],\n",
        "                 [-5., 3., 1.]])"
      ],
      "execution_count": 0,
      "outputs": []
    },
    {
      "metadata": {
        "id": "eiuaNMNkv4q6",
        "colab_type": "code",
        "colab": {
          "base_uri": "https://localhost:8080/",
          "height": 35
        },
        "outputId": "74db0250-f38a-4a09-d5e1-5707d02096f0"
      },
      "cell_type": "code",
      "source": [
        "model(X)"
      ],
      "execution_count": 11,
      "outputs": [
        {
          "output_type": "execute_result",
          "data": {
            "text/plain": [
              "<tfp.distributions.Independent 'Independentsequential_1/independent_normal_1/IndependentNormal/Normal/' batch_shape=(3,) event_shape=(1,) dtype=float32>"
            ]
          },
          "metadata": {
            "tags": []
          },
          "execution_count": 11
        }
      ]
    },
    {
      "metadata": {
        "id": "LiP0lDahEQLU",
        "colab_type": "code",
        "colab": {
          "base_uri": "https://localhost:8080/",
          "height": 89
        },
        "outputId": "57ce963d-b4b0-44c7-860e-4ca0651a2ab3"
      },
      "cell_type": "code",
      "source": [
        "model(X).sample()"
      ],
      "execution_count": 12,
      "outputs": [
        {
          "output_type": "execute_result",
          "data": {
            "text/plain": [
              "<tf.Tensor: id=473, shape=(3, 1), dtype=float32, numpy=\n",
              "array([[-1.7436618],\n",
              "       [ 3.3002102],\n",
              "       [ 1.3500538]], dtype=float32)>"
            ]
          },
          "metadata": {
            "tags": []
          },
          "execution_count": 12
        }
      ]
    },
    {
      "metadata": {
        "id": "b8D3SXnMv6WW",
        "colab_type": "text"
      },
      "cell_type": "markdown",
      "source": [
        "### まとめ\n",
        "例を見ていただいたとおり、`tfp.layers`のモジュールは`tf.keras.layers`と同等に扱えるように実装されています。\n",
        "\n",
        "ただし、`tf.keras.layers`のモジュールは基本的に`__call__`メソッドが`tf.Tensor`型の入力を受け取り、`tf.Tensor`型を出力します。一方で`tfp.layers`のモジュールはモデリングこそKerasライクにできますが、出力は`tfp.distributions.Distribution`クラス（あるいはそれを継承した子クラス）を表示しているだけで、具体的な`tf.Tensor`の値を得るためには `sample()`メソッドを呼び出す必要があります。\n",
        "\n",
        "この実装によって、モデルから複数のサンプルを得る必要がある場合は下記のように`sample(n)`。とすることで `n`個のサンプルが得られます。"
      ]
    },
    {
      "metadata": {
        "id": "hoLAR6htF5qt",
        "colab_type": "code",
        "colab": {
          "base_uri": "https://localhost:8080/",
          "height": 377
        },
        "outputId": "c7b0121e-ab7a-42c3-9c2f-cf40121b945b"
      },
      "cell_type": "code",
      "source": [
        "model(X).sample(5)"
      ],
      "execution_count": 13,
      "outputs": [
        {
          "output_type": "execute_result",
          "data": {
            "text/plain": [
              "<tf.Tensor: id=570, shape=(5, 3, 1), dtype=float32, numpy=\n",
              "array([[[-1.7289776],\n",
              "        [ 3.3053372],\n",
              "        [ 2.9502137]],\n",
              "\n",
              "       [[-1.7091746],\n",
              "        [ 3.2955818],\n",
              "        [-0.8753116]],\n",
              "\n",
              "       [[-1.7086447],\n",
              "        [ 3.2720976],\n",
              "        [ 2.708112 ]],\n",
              "\n",
              "       [[-1.7175404],\n",
              "        [ 3.2794054],\n",
              "        [ 3.0619233]],\n",
              "\n",
              "       [[-1.7442192],\n",
              "        [ 3.30328  ],\n",
              "        [-3.3940215]]], dtype=float32)>"
            ]
          },
          "metadata": {
            "tags": []
          },
          "execution_count": 13
        }
      ]
    },
    {
      "metadata": {
        "id": "cxxm_bebHlrZ",
        "colab_type": "text"
      },
      "cell_type": "markdown",
      "source": [
        "この性質は、ベイズモデルを実装した際に、ベイズ予測分布\n",
        "\n",
        "$$\n",
        "p(y\\mid x) = \\int _ w p(y \\mid w, x)p(w\\mid D)dw \n",
        "$$\n",
        "\n",
        "をモンテカルロサンプリング\n",
        "\n",
        "$$\n",
        "\\begin{align}\n",
        "w_i &\\sim p(w \\mid D)\\\\\n",
        "y_i &\\sim p(y\\mid w_i, x) \\\\\n",
        "\\end{align}\n",
        "$$\n",
        "\n",
        "で近似する際に便利です。このときできる限り多くのサンプルを使ってヒストグラムを構成することで予測分布を近似できます。これは積分を和で有限近似していることに相当します。\n",
        "\n",
        "$$\n",
        "p(y \\mid x) \\simeq \\frac{1}{N} \\sum _ {i=1} ^N p(y\\mid w_i, x) p(w_i \\mid D)\n",
        "$$"
      ]
    },
    {
      "metadata": {
        "id": "gVDTgLIqGApu",
        "colab_type": "text"
      },
      "cell_type": "markdown",
      "source": [
        "### 変分ベイズ重回帰\n",
        "統計モデルを\n",
        "\n",
        "$$\n",
        "p(y\\mid {\\bf x, w_\\mu, w_\\sigma}, b_\\mu, b_\\sigma)\n",
        "= \\mathcal N(y \\mid {\\bf w^T_\\mu x} + b_\\mu, {\\bf w^T_\\sigma x} + b_\\sigma)\n",
        "$$\n",
        "\n",
        "とし、事前分布を\n",
        "\n",
        "$$\n",
        "\\begin{align}\n",
        "p({\\bf w_\\mu}) = \\mathcal N(0, {\\bf \\Sigma_{w_\\mu}})\\\\\n",
        "p({\\bf w_\\sigma}) = \\mathcal N(0, {\\bf \\Sigma_{w_\\sigma}})\\\\\n",
        "p(b_\\mu) = \\mathcal N(0, \\sigma_{b_\\mu})\\\\\n",
        "p(b_\\sigma) = \\mathcal N(0, \\sigma_{b_\\sigma})\n",
        "\\end{align}\n",
        "$$\n",
        "\n",
        "としたモデルに対して、変分分布 $q({\\bf w_\\mu}), q({\\bf w_\\sigma}), q(b_\\mu) , q(b_\\sigma)$をそれぞれ正規分布（多次元の場合は分散が対角行列）とした変分ベイズ重回帰モデルは、入力 $D$ 次元とすれば、$4D + 2$ 個の（変分）パラメータを持ちます。"
      ]
    },
    {
      "metadata": {
        "id": "enyzCWC5NCTn",
        "colab_type": "code",
        "colab": {}
      },
      "cell_type": "code",
      "source": [
        "input_dim = 3\n",
        "output_dim = 1\n",
        "\n",
        "model = tfk.Sequential([\n",
        "    tfkl.InputLayer([input_dim]),\n",
        "    tfpl.DenseReparameterization(tfpl.IndependentNormal.params_size(output_dim)),\n",
        "    tfpl.IndependentNormal(output_dim)\n",
        "])"
      ],
      "execution_count": 0,
      "outputs": []
    },
    {
      "metadata": {
        "id": "L4IgbfmBOm2b",
        "colab_type": "code",
        "colab": {
          "base_uri": "https://localhost:8080/",
          "height": 233
        },
        "outputId": "f8999084-1c5a-4da9-b1f2-ae22c74d1bf7"
      },
      "cell_type": "code",
      "source": [
        "model.summary()"
      ],
      "execution_count": 24,
      "outputs": [
        {
          "output_type": "stream",
          "text": [
            "Model: \"sequential_4\"\n",
            "_________________________________________________________________\n",
            "Layer (type)                 Output Shape              Param #   \n",
            "=================================================================\n",
            "dense_reparameterization_2 ( (None, 2)                 14        \n",
            "_________________________________________________________________\n",
            "independent_normal_3 (Indepe ((None, 1), (None, 1))    0         \n",
            "=================================================================\n",
            "Total params: 14\n",
            "Trainable params: 14\n",
            "Non-trainable params: 0\n",
            "_________________________________________________________________\n"
          ],
          "name": "stdout"
        }
      ]
    },
    {
      "metadata": {
        "id": "cTjznRQxOtRM",
        "colab_type": "code",
        "colab": {}
      },
      "cell_type": "code",
      "source": [
        "X = tf.constant([[3., -4., 1.],\n",
        "                 [2., 2., 2.],\n",
        "                 [-5., 3., 1.]])"
      ],
      "execution_count": 0,
      "outputs": []
    },
    {
      "metadata": {
        "id": "M_FHfL81PNG_",
        "colab_type": "code",
        "colab": {
          "base_uri": "https://localhost:8080/",
          "height": 35
        },
        "outputId": "f013d00f-9b94-41ca-8f87-4cce7f952d6f"
      },
      "cell_type": "code",
      "source": [
        "model(X)"
      ],
      "execution_count": 26,
      "outputs": [
        {
          "output_type": "execute_result",
          "data": {
            "text/plain": [
              "<tfp.distributions.Independent 'Independentindependent_normal_3_1/IndependentNormal/Normal/' batch_shape=(3,) event_shape=(1,) dtype=float32>"
            ]
          },
          "metadata": {
            "tags": []
          },
          "execution_count": 26
        }
      ]
    },
    {
      "metadata": {
        "id": "NYuYJMZZPN1O",
        "colab_type": "code",
        "colab": {
          "base_uri": "https://localhost:8080/",
          "height": 35
        },
        "outputId": "be3a0d00-916b-4c09-e5c3-112b386e62cc"
      },
      "cell_type": "code",
      "source": [
        "model(X).sample()"
      ],
      "execution_count": 27,
      "outputs": [
        {
          "output_type": "execute_result",
          "data": {
            "text/plain": [
              "<tf.Tensor 'Reshape_23:0' shape=(3, 1) dtype=float32>"
            ]
          },
          "metadata": {
            "tags": []
          },
          "execution_count": 27
        }
      ]
    },
    {
      "metadata": {
        "id": "v_vuQsTePPaL",
        "colab_type": "code",
        "colab": {}
      },
      "cell_type": "code",
      "source": [
        ""
      ],
      "execution_count": 0,
      "outputs": []
    }
  ]
}