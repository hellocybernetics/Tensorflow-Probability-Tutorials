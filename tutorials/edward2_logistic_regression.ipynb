{
  "nbformat": 4,
  "nbformat_minor": 0,
  "metadata": {
    "colab": {
      "name": "edward2_logistic_regression.ipynb",
      "version": "0.3.2",
      "provenance": [],
      "collapsed_sections": [],
      "include_colab_link": true
    },
    "kernelspec": {
      "name": "python3",
      "display_name": "Python 3"
    },
    "accelerator": "GPU"
  },
  "cells": [
    {
      "cell_type": "markdown",
      "metadata": {
        "id": "view-in-github",
        "colab_type": "text"
      },
      "source": [
        "<a href=\"https://colab.research.google.com/github/hellocybernetics/Tensorflow-Probability-Tutorials/blob/master/edward2_logistic_regression.ipynb\" target=\"_parent\"><img src=\"https://colab.research.google.com/assets/colab-badge.svg\" alt=\"Open In Colab\"/></a>"
      ]
    },
    {
      "metadata": {
        "id": "iCPYnetM3l7b",
        "colab_type": "code",
        "colab": {
          "base_uri": "https://localhost:8080/",
          "height": 71
        },
        "outputId": "c6f21aec-e6c8-409d-dc39-7bd8e5e348a0"
      },
      "cell_type": "code",
      "source": [
        "!pip install tensorflow-probability"
      ],
      "execution_count": 1,
      "outputs": [
        {
          "output_type": "stream",
          "text": [
            "Requirement already satisfied: tensorflow-probability in /usr/local/lib/python3.6/dist-packages (0.5.0)\n",
            "Requirement already satisfied: numpy>=1.13.3 in /usr/local/lib/python3.6/dist-packages (from tensorflow-probability) (1.14.6)\n",
            "Requirement already satisfied: six>=1.10.0 in /usr/local/lib/python3.6/dist-packages (from tensorflow-probability) (1.11.0)\n"
          ],
          "name": "stdout"
        }
      ]
    },
    {
      "metadata": {
        "id": "phXPDzMv4TUw",
        "colab_type": "code",
        "colab": {}
      },
      "cell_type": "code",
      "source": [
        "import tensorflow as tf\n",
        "import tensorflow_probability as tfp\n",
        "import numpy as np\n",
        "import matplotlib.pyplot as plt\n",
        "import seaborn as sns\n",
        "%matplotlib inline\n",
        "\n",
        "sns.set_style()\n",
        "\n",
        "tfd = tfp.distributions\n",
        "ed = tfp.edward2\n",
        "tfe = tf.contrib.eager"
      ],
      "execution_count": 0,
      "outputs": []
    },
    {
      "metadata": {
        "id": "_MI7Bd6n3rFJ",
        "colab_type": "code",
        "colab": {}
      },
      "cell_type": "code",
      "source": [
        "def logistic_regression(features):\n",
        "    \"\"\"Bayesian logistic regression, which returns labels given features.\"\"\"\n",
        "    coeffs = ed.MultivariateNormalDiag(\n",
        "        loc=tf.zeros(features.shape[1]), name=\"coeffs\")\n",
        "    labels = ed.Bernoulli(\n",
        "        logits=tf.tensordot(features, coeffs, [[1], [0]]), name=\"labels\")\n",
        "    return labels\n",
        "\n",
        "\n",
        "def covertype():\n",
        "    \"\"\"Builds the Covertype data set.\"\"\"\n",
        "    import sklearn.datasets  # pylint: disable=g-import-not-at-top\n",
        "    data = sklearn.datasets.covtype.fetch_covtype()\n",
        "    features = data.data\n",
        "    labels = data.target\n",
        "\n",
        "    # Normalize features and append a column of ones for the intercept.\n",
        "    features -= features.mean(0)\n",
        "    features /= features.std(0)\n",
        "    features = np.hstack([features, np.ones([features.shape[0], 1])])\n",
        "    features = tf.cast(features, dtype=tf.float32)\n",
        "\n",
        "    # Binarize outcomes on whether it is a specific category.\n",
        "    _, counts = np.unique(labels, return_counts=True)\n",
        "    specific_category = np.argmax(counts)\n",
        "    labels = (labels == specific_category)\n",
        "    labels = tf.cast(labels, dtype=tf.int32)\n",
        "    return features, labels\n"
      ],
      "execution_count": 0,
      "outputs": []
    },
    {
      "metadata": {
        "id": "wVn0aoGh3v4r",
        "colab_type": "code",
        "colab": {
          "base_uri": "https://localhost:8080/",
          "height": 377
        },
        "outputId": "19e389e1-c3f1-4be1-b52e-885e97d2a9f1"
      },
      "cell_type": "code",
      "source": [
        "tf.enable_eager_execution()\n",
        "print(\"Number of available GPUs\", tfe.num_gpus())\n",
        "\n",
        "features, labels = covertype()\n",
        "print(\"Data set size\", features.shape[0])\n",
        "print(\"Number of features\", features.shape[1])\n",
        "\n",
        "log_joint = ed.make_log_joint_fn(logistic_regression)\n",
        "def target_log_prob_fn(coeffs):\n",
        "    return log_joint(features=features, coeffs=coeffs, labels=labels)\n",
        "\n",
        "coeffs = tf.constant(\n",
        "    [+2.03420663e+00, -3.53567265e-02, -1.49223924e-01, -3.07049364e-01,\n",
        "     -1.00028366e-01, -1.46827862e-01, -1.64167881e-01, -4.20344204e-01,\n",
        "     +9.47479829e-02, -1.12681836e-02, +2.64442056e-01, -1.22087866e-01,\n",
        "     -6.00568838e-02, -3.79419506e-01, -1.06668741e-01, -2.97053963e-01,\n",
        "     -2.05253899e-01, -4.69537191e-02, -2.78072730e-02, -1.43250525e-01,\n",
        "     -6.77954629e-02, -4.34899796e-03, +5.90927452e-02, +7.23133609e-02,\n",
        "     +1.38526391e-02, -1.24497898e-01, -1.50733739e-02, -2.68872194e-02,\n",
        "     -1.80925727e-02, +3.47936489e-02, +4.03552800e-02, -9.98773426e-03,\n",
        "     +6.20188080e-02, +1.15002751e-01, +1.32145107e-01, +2.69109547e-01,\n",
        "     +2.45785132e-01, +1.19035013e-01, -2.59744357e-02, +9.94279515e-04,\n",
        "     +3.39266285e-02, -1.44057125e-02, -6.95222765e-02, -7.52013028e-02,\n",
        "     +1.21171586e-01, +2.29205526e-02, +1.47308692e-01, -8.34354162e-02,\n",
        "     -9.34122875e-02, -2.97472421e-02, -3.03937674e-01, -1.70958012e-01,\n",
        "     -1.59496680e-01, -1.88516974e-01, -1.20889175e+00])\n",
        "\n",
        "# Initialize step size via result of 50 warmup steps from Stan.\n",
        "step_size = 0.00167132"
      ],
      "execution_count": 4,
      "outputs": [
        {
          "output_type": "stream",
          "text": [
            "/usr/lib/python3.6/importlib/_bootstrap.py:219: ImportWarning: can't resolve package from __spec__ or __package__, falling back on __name__ and __path__\n",
            "  return f(*args, **kwds)\n",
            "/usr/lib/python3.6/importlib/_bootstrap.py:219: ImportWarning: can't resolve package from __spec__ or __package__, falling back on __name__ and __path__\n",
            "  return f(*args, **kwds)\n",
            "/usr/lib/python3.6/importlib/_bootstrap.py:219: ImportWarning: can't resolve package from __spec__ or __package__, falling back on __name__ and __path__\n",
            "  return f(*args, **kwds)\n",
            "/usr/lib/python3.6/importlib/_bootstrap.py:219: ImportWarning: can't resolve package from __spec__ or __package__, falling back on __name__ and __path__\n",
            "  return f(*args, **kwds)\n",
            "/usr/lib/python3.6/importlib/_bootstrap.py:219: ImportWarning: can't resolve package from __spec__ or __package__, falling back on __name__ and __path__\n",
            "  return f(*args, **kwds)\n",
            "/usr/lib/python3.6/importlib/_bootstrap.py:219: ImportWarning: can't resolve package from __spec__ or __package__, falling back on __name__ and __path__\n",
            "  return f(*args, **kwds)\n",
            "/usr/lib/python3.6/importlib/_bootstrap.py:219: ImportWarning: can't resolve package from __spec__ or __package__, falling back on __name__ and __path__\n",
            "  return f(*args, **kwds)\n",
            "/usr/lib/python3.6/importlib/_bootstrap.py:219: ImportWarning: can't resolve package from __spec__ or __package__, falling back on __name__ and __path__\n",
            "  return f(*args, **kwds)\n",
            "Downloading https://ndownloader.figshare.com/files/5976039\n"
          ],
          "name": "stderr"
        },
        {
          "output_type": "stream",
          "text": [
            "Number of available GPUs 1\n",
            "Data set size 581012\n",
            "Number of features 55\n"
          ],
          "name": "stdout"
        }
      ]
    },
    {
      "metadata": {
        "id": "HH9263Fu4NiC",
        "colab_type": "code",
        "colab": {}
      },
      "cell_type": "code",
      "source": [
        "coeffs_init = tf.random_normal([features.shape[1]])\n",
        "\n",
        "hmc = tfp.mcmc.HamiltonianMonteCarlo(\n",
        "    target_log_prob_fn=target_log_prob_fn,\n",
        "    num_leapfrog_steps=3,\n",
        "    step_size=tf.Variable(step_size),\n",
        "    step_size_update_fn=tfp.mcmc.make_simple_step_size_update_policy())\n",
        "\n",
        "    \n",
        "[\n",
        "    [coeffs],\n",
        "    kernel_results,\n",
        "] = tfp.mcmc.sample_chain(\n",
        "        num_results=1000,\n",
        "        num_burnin_steps=200,\n",
        "        current_state=[coeffs_init],\n",
        "        parallel_iterations=200,\n",
        "        kernel=hmc)\n",
        "\n"
      ],
      "execution_count": 0,
      "outputs": []
    },
    {
      "metadata": {
        "id": "Jwmr_Ssn5PFc",
        "colab_type": "code",
        "colab": {
          "base_uri": "https://localhost:8080/",
          "height": 283
        },
        "outputId": "bf782c81-939d-4981-cd63-889e9b24b327"
      },
      "cell_type": "code",
      "source": [
        "plt.plot(coeffs[:, 33].numpy())"
      ],
      "execution_count": 21,
      "outputs": [
        {
          "output_type": "execute_result",
          "data": {
            "text/plain": [
              "[<matplotlib.lines.Line2D at 0x7f3bc2288860>]"
            ]
          },
          "metadata": {
            "tags": []
          },
          "execution_count": 21
        },
        {
          "output_type": "display_data",
          "data": {
            "image/png": "[encoded data removed]",
            "text/plain": [
              "<matplotlib.figure.Figure at 0x7f3bc20268d0>"
            ]
          },
          "metadata": {
            "tags": []
          }
        }
      ]
    },
    {
      "metadata": {
        "id": "i-NTyIiP8t6I",
        "colab_type": "code",
        "colab": {}
      },
      "cell_type": "code",
      "source": [
        "coeff_mean = tf.reduce_mean(coeffs[800:], axis=0)"
      ],
      "execution_count": 0,
      "outputs": []
    },
    {
      "metadata": {
        "id": "Tgf4l0Sm85WO",
        "colab_type": "code",
        "colab": {}
      },
      "cell_type": "code",
      "source": [
        "def logistic_predicor(features):\n",
        "    coeff_mean = tf.reduce_mean(coeffs[800:], axis=0)\n",
        "    return ed.Bernoulli(logits=tf.tensordot(features, coeff_mean, [[1], [0]]))"
      ],
      "execution_count": 0,
      "outputs": []
    },
    {
      "metadata": {
        "id": "I0bUelNr9pbp",
        "colab_type": "code",
        "colab": {}
      },
      "cell_type": "code",
      "source": [
        "y = logistic_predicor(features)\n",
        "accuracy = tf.reduce_mean(tf.cast(tf.equal(y, labels), dtype=tf.float32))"
      ],
      "execution_count": 0,
      "outputs": []
    },
    {
      "metadata": {
        "id": "GBtfC6cA9zIZ",
        "colab_type": "code",
        "colab": {
          "base_uri": "https://localhost:8080/",
          "height": 35
        },
        "outputId": "d0250e81-aa3d-4e71-c223-91b074b9da06"
      },
      "cell_type": "code",
      "source": [
        "print(accuracy)"
      ],
      "execution_count": 68,
      "outputs": [
        {
          "output_type": "stream",
          "text": [
            "tf.Tensor(0.689552, shape=(), dtype=float32)\n"
          ],
          "name": "stdout"
        }
      ]
    },
    {
      "metadata": {
        "id": "jcDFDjtK-Vhr",
        "colab_type": "code",
        "colab": {}
      },
      "cell_type": "code",
      "source": [
        ""
      ],
      "execution_count": 0,
      "outputs": []
    },
    {
      "metadata": {
        "id": "1EvTQYpUAUc1",
        "colab_type": "code",
        "colab": {}
      },
      "cell_type": "code",
      "source": [
        ""
      ],
      "execution_count": 0,
      "outputs": []
    },
    {
      "metadata": {
        "id": "prFvLHzDAkK5",
        "colab_type": "code",
        "colab": {}
      },
      "cell_type": "code",
      "source": [
        ""
      ],
      "execution_count": 0,
      "outputs": []
    }
  ]
}