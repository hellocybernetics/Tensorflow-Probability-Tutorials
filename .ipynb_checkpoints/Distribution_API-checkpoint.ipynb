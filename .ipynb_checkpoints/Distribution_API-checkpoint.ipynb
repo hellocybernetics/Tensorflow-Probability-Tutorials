{
 "cells": [
  {
   "cell_type": "markdown",
   "metadata": {},
   "source": [
    "### はじめに\n",
    "今回はTensorFlow probabilityの基本的機能である「tensorflow_probability.distributions」について触れていこうと思います。\n",
    "\n",
    "\n",
    "TensorFlow probability上で実装されている確率分布のクラスをまとめたモジュールであり、（TensorFlow本体を除いて）最も低レイヤーに位置するものだと考えて差し支えないでしょう。\n",
    "\n"
   ]
  },
  {
   "cell_type": "code",
   "execution_count": null,
   "metadata": {},
   "outputs": [],
   "source": [
    "import tensorflow as tf\n",
    "import tensorflow_probability as tfp\n",
    "import matplotlib.pyplot as plt\n",
    "import seaborn\n",
    "%matplotlib inline"
   ]
  },
  {
   "cell_type": "markdown",
   "metadata": {},
   "source": [
    "### 前準備"
   ]
  },
  {
   "cell_type": "code",
   "execution_count": 3,
   "metadata": {},
   "outputs": [],
   "source": [
    "tfe = tf.contrib.eager\n",
    "tfd = tfp.distributions"
   ]
  },
  {
   "cell_type": "code",
   "execution_count": 4,
   "metadata": {},
   "outputs": [],
   "source": [
    "tf.enable_eager_execution()"
   ]
  },
  {
   "cell_type": "markdown",
   "metadata": {},
   "source": [
    "### 正規分布\n",
    "下記のように`tfd.Normal`を使えば簡単に確率分布を作ることができます。また、ここで作っている確率分布は数式上では下記のようなものになります。\n",
    "\n",
    "$$\n",
    "\\mathcal N(0, 1)\n",
    "$$\n",
    "\n",
    "ここで注意しておくべきなのは、「平均0」で「標準偏差が1」の確率分布となっている点です。分散を指定しているわけではないので`scale=1`なら差異はありませんが、違う値を入れるときには意図した通りになるように注意しましょう。"
   ]
  },
  {
   "cell_type": "code",
   "execution_count": 5,
   "metadata": {},
   "outputs": [
    {
     "data": {
      "text/plain": [
       "<tf.distributions.Normal 'Normal/' batch_shape=() event_shape=() dtype=float32>"
      ]
     },
     "execution_count": 5,
     "metadata": {},
     "output_type": "execute_result"
    }
   ],
   "source": [
    "normal = tfd.Normal(loc=0., scale=1.)\n",
    "normal"
   ]
  },
  {
   "cell_type": "markdown",
   "metadata": {},
   "source": [
    "作った確率分布の`sample`メソッドを呼び出してやれば、確率分布に従う乱数を生成してくれます。また、引数として生成したいサンプルの個数を指定できます。"
   ]
  },
  {
   "cell_type": "code",
   "execution_count": 8,
   "metadata": {},
   "outputs": [
    {
     "data": {
      "text/plain": [
       "<tf.Tensor: id=64, shape=(10,), dtype=float32, numpy=\n",
       "array([-0.04905302, -1.2052385 ,  0.52392155, -0.28327528, -0.21117926,\n",
       "       -0.9016833 , -0.5387514 , -1.0236576 ,  0.00831523, -0.31143647],\n",
       "      dtype=float32)>"
      ]
     },
     "execution_count": 8,
     "metadata": {},
     "output_type": "execute_result"
    }
   ],
   "source": [
    "normal.sample(10)"
   ]
  },
  {
   "cell_type": "markdown",
   "metadata": {},
   "source": [
    "ここで、確率分布のクラスに入っている重要なメソッド`log_prob`を紹介しておきましょう。\n",
    "例えば、`log_prob(0.)`とした場合には`0.`という値が生起する確率の対数値が返ってきます。\n",
    "このメソッドの引数には1次元の`tf.Tensor`を与えることも可能なので、その場合の挙動を見てみましょう。"
   ]
  },
  {
   "cell_type": "code",
   "execution_count": 12,
   "metadata": {},
   "outputs": [
    {
     "data": {
      "text/plain": [
       "<tf.Tensor: id=174, shape=(10,), dtype=float32, numpy=\n",
       "array([-1.1259897 , -1.6028789 , -1.182483  , -0.9316357 , -5.1715817 ,\n",
       "       -1.0799512 , -1.613446  , -1.0031593 , -0.9291626 , -0.94136554],\n",
       "      dtype=float32)>"
      ]
     },
     "execution_count": 12,
     "metadata": {},
     "output_type": "execute_result"
    }
   ],
   "source": [
    "samples = normal.sample(10)\n",
    "log_prob = normal.log_prob(samples)\n",
    "log_prob"
   ]
  },
  {
   "cell_type": "markdown",
   "metadata": {},
   "source": [
    "`samples`は10個の要素（サンプル値）を持つ`tf.Tensor`となっています。これを`log_prob`メソッドに与えたら、同様にして10個の要素を持つ`tf.Tensor`が返ってきました。\n",
    "これは各要素に対してそれぞれ対数尤度を計算していることを意味しています。最尤推定などでは訓練サンプル全てが生起した場合の尤度が欲しいので、典型的にはこのメソッドで返ってくる`tf.Tensor`の和を計算することになるでしょう。"
   ]
  },
  {
   "cell_type": "code",
   "execution_count": 19,
   "metadata": {},
   "outputs": [
    {
     "data": {
      "text/plain": [
       "<tf.Tensor: id=180, shape=(), dtype=float32, numpy=-15.581654>"
      ]
     },
     "execution_count": 19,
     "metadata": {},
     "output_type": "execute_result"
    }
   ],
   "source": [
    "tf.reduce_sum(log_prob)"
   ]
  },
  {
   "cell_type": "markdown",
   "metadata": {},
   "source": []
  }
 ],
 "metadata": {
  "kernelspec": {
   "display_name": "Python 3",
   "language": "python",
   "name": "python3"
  },
  "language_info": {
   "codemirror_mode": {
    "name": "ipython",
    "version": 3
   },
   "file_extension": ".py",
   "mimetype": "text/x-python",
   "name": "python",
   "nbconvert_exporter": "python",
   "pygments_lexer": "ipython3",
   "version": "3.6.5"
  }
 },
 "nbformat": 4,
 "nbformat_minor": 2
}
