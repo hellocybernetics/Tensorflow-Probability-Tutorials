{
  "nbformat": 4,
  "nbformat_minor": 0,
  "metadata": {
    "colab": {
      "name": "glm_fit.ipynb",
      "version": "0.3.2",
      "provenance": [],
      "include_colab_link": true
    },
    "kernelspec": {
      "name": "python3",
      "display_name": "Python 3"
    }
  },
  "cells": [
    {
      "cell_type": "markdown",
      "metadata": {
        "id": "view-in-github",
        "colab_type": "text"
      },
      "source": [
        "<a href=\"https://colab.research.google.com/github/hellocybernetics/Tensorflow-Probability-Tutorials/blob/master/glm_fit.ipynb\" target=\"_parent\"><img src=\"https://colab.research.google.com/assets/colab-badge.svg\" alt=\"Open In Colab\"/></a>"
      ]
    },
    {
      "metadata": {
        "id": "ZuA_ng7I7DI-",
        "colab_type": "code",
        "colab": {
          "base_uri": "https://localhost:8080/",
          "height": 71
        },
        "outputId": "34e001de-233d-4d21-d0ce-765f6df74972"
      },
      "cell_type": "code",
      "source": [
        "# !pip uninstall tensorflow -y\n",
        "# !pip install --upgrade tensorflow==1.11\n",
        "!pip install tensorflow-probability"
      ],
      "execution_count": 1,
      "outputs": [
        {
          "output_type": "stream",
          "text": [
            "Requirement already satisfied: tensorflow-probability in /usr/local/lib/python3.6/dist-packages (0.5.0)\n",
            "Requirement already satisfied: numpy>=1.13.3 in /usr/local/lib/python3.6/dist-packages (from tensorflow-probability) (1.14.6)\n",
            "Requirement already satisfied: six>=1.10.0 in /usr/local/lib/python3.6/dist-packages (from tensorflow-probability) (1.11.0)\n"
          ],
          "name": "stdout"
        }
      ]
    },
    {
      "metadata": {
        "id": "h0j5mVJB7ON5",
        "colab_type": "code",
        "colab": {}
      },
      "cell_type": "code",
      "source": [
        "import numpy as np\n",
        "import tensorflow as tf\n",
        "import tensorflow_probability as tfp\n",
        "import matplotlib.pyplot as plt\n",
        "import seaborn as sns\n",
        "%matplotlib inline"
      ],
      "execution_count": 0,
      "outputs": []
    },
    {
      "metadata": {
        "id": "Vx8McRKQ7ght",
        "colab_type": "code",
        "colab": {}
      },
      "cell_type": "code",
      "source": [
        "sns.set_style()\n",
        "\n",
        "tfd = tfp.distributions\n",
        "tfe = tf.contrib.eager"
      ],
      "execution_count": 0,
      "outputs": []
    },
    {
      "metadata": {
        "id": "jGjOn7kV77xF",
        "colab_type": "code",
        "colab": {}
      },
      "cell_type": "code",
      "source": [
        "tf.enable_eager_execution()"
      ],
      "execution_count": 0,
      "outputs": []
    },
    {
      "metadata": {
        "id": "81ZNOak_8F_X",
        "colab_type": "code",
        "colab": {}
      },
      "cell_type": "code",
      "source": [
        "def make_dataset(n, d, link, scale=1., dtype=np.float32):\n",
        "    model_coefficients = tfd.Uniform(\n",
        "        low=np.array(-1, dtype),\n",
        "        high=np.array(1, dtype)).sample(d, seed=42)\n",
        "    \n",
        "    radius = np.sqrt(2.)\n",
        "    \n",
        "    model_coefficients *= radius / tf.linalg.norm(model_coefficients)\n",
        "    model_matrix = tfd.Normal(\n",
        "        loc=np.array(0, dtype),\n",
        "        scale=np.array(1, dtype)).sample([n, d], seed=43)\n",
        "    \n",
        "    scale = tf.convert_to_tensor(scale, dtype)\n",
        "    linear_response = tf.tensordot(\n",
        "        model_matrix, model_coefficients, axes=[[1], [0]])\n",
        "    \n",
        "    if link == 'linear':\n",
        "        response = tfd.Normal(loc=linear_response, scale=scale).sample(seed=44)\n",
        "    \n",
        "    elif link == 'probit':\n",
        "        response = tf.cast(\n",
        "            tfd.Normal(loc=linear_response, scale=scale).sample(seed=44) > 0,\n",
        "            dtype)\n",
        "    \n",
        "    elif link == 'logit':\n",
        "        response = tfd.Bernoulli(logits=linear_response).sample(seed=44)\n",
        "    \n",
        "    else:\n",
        "        raise ValueError('unrecognized true link: {}'.format(link))\n",
        "    return model_matrix, response, model_coefficients"
      ],
      "execution_count": 0,
      "outputs": []
    },
    {
      "metadata": {
        "id": "5DRRIDZw9fcV",
        "colab_type": "code",
        "colab": {}
      },
      "cell_type": "code",
      "source": [
        "X, Y, w_true = make_dataset(n=int(500), d=3, link='probit')\n",
        "\n",
        "X_train = X[:400]\n",
        "X_test = X[400:]\n",
        "Y_train = Y[:400]\n",
        "Y_test = Y[400:]\n",
        "\n",
        "\n",
        "model_probit = tfp.glm.BernoulliNormalCDF()\n",
        "\n",
        "w, linear_response, is_converged, num_iter = tfp.glm.fit(\n",
        "    model_matrix=X_train,\n",
        "    response=Y_train,\n",
        "    model=model_probit)"
      ],
      "execution_count": 0,
      "outputs": []
    },
    {
      "metadata": {
        "id": "_UZfWTy79pCu",
        "colab_type": "code",
        "colab": {
          "base_uri": "https://localhost:8080/",
          "height": 53
        },
        "outputId": "5e02fa2b-0dee-46b8-c7ae-10c18ccbd5ee"
      },
      "cell_type": "code",
      "source": [
        "print(\"w_true: \", w_true.numpy())\n",
        "print(\"w_fit: \", w.numpy())"
      ],
      "execution_count": 7,
      "outputs": [
        {
          "output_type": "stream",
          "text": [
            "w_true:  [1.125005  0.4412938 0.7345909]\n",
            "w_fit:  [1.3105882  0.56357825 0.76087064]\n"
          ],
          "name": "stdout"
        }
      ]
    },
    {
      "metadata": {
        "id": "OHjltwgnG3N1",
        "colab_type": "code",
        "colab": {}
      },
      "cell_type": "code",
      "source": [
        "Y = model_probit(tf.matmul(X_test, w[:, tf.newaxis]))"
      ],
      "execution_count": 0,
      "outputs": []
    },
    {
      "metadata": {
        "id": "sdjvtvCv_xXz",
        "colab_type": "code",
        "colab": {
          "base_uri": "https://localhost:8080/",
          "height": 5471
        },
        "outputId": "114afa12-4840-4313-bc6d-4b99d9f6d80d"
      },
      "cell_type": "code",
      "source": [
        "Y"
      ],
      "execution_count": 16,
      "outputs": [
        {
          "output_type": "execute_result",
          "data": {
            "text/plain": [
              "(<tf.Tensor: id=1334, shape=(100, 1), dtype=float32, numpy=\n",
              " array([[0.52370226],\n",
              "        [0.5038208 ],\n",
              "        [0.29711306],\n",
              "        [0.42350078],\n",
              "        [0.54657376],\n",
              "        [0.2701589 ],\n",
              "        [0.46616298],\n",
              "        [0.42828315],\n",
              "        [0.44069675],\n",
              "        [0.6410709 ],\n",
              "        [0.34107396],\n",
              "        [0.5321541 ],\n",
              "        [0.53840053],\n",
              "        [0.58155054],\n",
              "        [0.30718696],\n",
              "        [0.47295618],\n",
              "        [0.429927  ],\n",
              "        [0.22622141],\n",
              "        [0.49543732],\n",
              "        [0.7838849 ],\n",
              "        [0.6293001 ],\n",
              "        [0.44523463],\n",
              "        [0.2882873 ],\n",
              "        [0.4551715 ],\n",
              "        [0.5571623 ],\n",
              "        [0.65678406],\n",
              "        [0.27041918],\n",
              "        [0.34454897],\n",
              "        [0.55384195],\n",
              "        [0.85787845],\n",
              "        [0.31325737],\n",
              "        [0.65032303],\n",
              "        [0.39172864],\n",
              "        [0.3534933 ],\n",
              "        [0.4130386 ],\n",
              "        [0.65394634],\n",
              "        [0.34674087],\n",
              "        [0.51322377],\n",
              "        [0.60290617],\n",
              "        [0.491878  ],\n",
              "        [0.4517678 ],\n",
              "        [0.20064196],\n",
              "        [0.20369461],\n",
              "        [0.43105465],\n",
              "        [0.43153065],\n",
              "        [0.47914308],\n",
              "        [0.5683823 ],\n",
              "        [0.69384897],\n",
              "        [0.5317603 ],\n",
              "        [0.5209119 ],\n",
              "        [0.52690023],\n",
              "        [0.5312136 ],\n",
              "        [0.556475  ],\n",
              "        [0.4683322 ],\n",
              "        [0.7419535 ],\n",
              "        [0.5593667 ],\n",
              "        [0.22510898],\n",
              "        [0.6843502 ],\n",
              "        [0.5946008 ],\n",
              "        [0.42646733],\n",
              "        [0.47247702],\n",
              "        [0.7568897 ],\n",
              "        [0.33475083],\n",
              "        [0.5309482 ],\n",
              "        [0.44579652],\n",
              "        [0.61960906],\n",
              "        [0.32746375],\n",
              "        [0.7331197 ],\n",
              "        [0.48375702],\n",
              "        [0.53043085],\n",
              "        [0.72027165],\n",
              "        [0.67209464],\n",
              "        [0.5782982 ],\n",
              "        [0.35611537],\n",
              "        [0.62560946],\n",
              "        [0.6205266 ],\n",
              "        [0.37585515],\n",
              "        [0.6436178 ],\n",
              "        [0.39429945],\n",
              "        [0.7396453 ],\n",
              "        [0.6328135 ],\n",
              "        [0.65499055],\n",
              "        [0.378482  ],\n",
              "        [0.48209003],\n",
              "        [0.6648605 ],\n",
              "        [0.24483216],\n",
              "        [0.55088645],\n",
              "        [0.43472898],\n",
              "        [0.5885006 ],\n",
              "        [0.65023   ],\n",
              "        [0.59341913],\n",
              "        [0.51853925],\n",
              "        [0.70433486],\n",
              "        [0.4721793 ],\n",
              "        [0.8150125 ],\n",
              "        [0.29476327],\n",
              "        [0.401479  ],\n",
              "        [0.29420656],\n",
              "        [0.6878073 ],\n",
              "        [0.5307352 ]], dtype=float32)>,\n",
              " <tf.Tensor: id=1355, shape=(100, 1), dtype=float32, numpy=\n",
              " array([[0.24943818],\n",
              "        [0.24998541],\n",
              "        [0.20883688],\n",
              "        [0.24414787],\n",
              "        [0.24783087],\n",
              "        [0.19717306],\n",
              "        [0.24885505],\n",
              "        [0.2448567 ],\n",
              "        [0.24648313],\n",
              "        [0.23009901],\n",
              "        [0.2247425 ],\n",
              "        [0.24896613],\n",
              "        [0.24852541],\n",
              "        [0.24334951],\n",
              "        [0.21282314],\n",
              "        [0.24926864],\n",
              "        [0.24508977],\n",
              "        [0.17504528],\n",
              "        [0.24997918],\n",
              "        [0.16940938],\n",
              "        [0.23328148],\n",
              "        [0.24700074],\n",
              "        [0.20517774],\n",
              "        [0.24799041],\n",
              "        [0.24673247],\n",
              "        [0.22541876],\n",
              "        [0.19729264],\n",
              "        [0.22583498],\n",
              "        [0.24710104],\n",
              "        [0.12192301],\n",
              "        [0.2151272 ],\n",
              "        [0.22740299],\n",
              "        [0.23827732],\n",
              "        [0.22853577],\n",
              "        [0.24243772],\n",
              "        [0.22630052],\n",
              "        [0.22651166],\n",
              "        [0.24982515],\n",
              "        [0.23941033],\n",
              "        [0.24993402],\n",
              "        [0.24767366],\n",
              "        [0.16038476],\n",
              "        [0.16220312],\n",
              "        [0.24524654],\n",
              "        [0.24531195],\n",
              "        [0.24956499],\n",
              "        [0.24532385],\n",
              "        [0.21242258],\n",
              "        [0.24899128],\n",
              "        [0.24956271],\n",
              "        [0.2492764 ],\n",
              "        [0.24902572],\n",
              "        [0.24681056],\n",
              "        [0.24899714],\n",
              "        [0.19145848],\n",
              "        [0.2464756 ],\n",
              "        [0.17443493],\n",
              "        [0.21601501],\n",
              "        [0.2410507 ],\n",
              "        [0.24459293],\n",
              "        [0.24924248],\n",
              "        [0.18400767],\n",
              "        [0.22269271],\n",
              "        [0.24904221],\n",
              "        [0.247062  ],\n",
              "        [0.23569368],\n",
              "        [0.22023124],\n",
              "        [0.1956552 ],\n",
              "        [0.24973616],\n",
              "        [0.24907397],\n",
              "        [0.2014804 ],\n",
              "        [0.22038344],\n",
              "        [0.2438694 ],\n",
              "        [0.22929722],\n",
              "        [0.23422226],\n",
              "        [0.23547333],\n",
              "        [0.23458806],\n",
              "        [0.22937393],\n",
              "        [0.23882739],\n",
              "        [0.19257013],\n",
              "        [0.23236057],\n",
              "        [0.22597793],\n",
              "        [0.2352334 ],\n",
              "        [0.24967925],\n",
              "        [0.22282104],\n",
              "        [0.18488938],\n",
              "        [0.24741057],\n",
              "        [0.2457397 ],\n",
              "        [0.24216762],\n",
              "        [0.22743095],\n",
              "        [0.24127287],\n",
              "        [0.24965629],\n",
              "        [0.20824724],\n",
              "        [0.249226  ],\n",
              "        [0.15076712],\n",
              "        [0.20787789],\n",
              "        [0.2402936 ],\n",
              "        [0.20764907],\n",
              "        [0.21472839],\n",
              "        [0.24905534]], dtype=float32)>,\n",
              " <tf.Tensor: id=1365, shape=(100, 1), dtype=float32, numpy=\n",
              " array([[0.39823794],\n",
              "        [0.398924  ],\n",
              "        [0.34616673],\n",
              "        [0.39158505],\n",
              "        [0.3962206 ],\n",
              "        [0.33074287],\n",
              "        [0.39750645],\n",
              "        [0.39247862],\n",
              "        [0.3945264 ],\n",
              "        [0.37373227],\n",
              "        [0.36685175],\n",
              "        [0.39764583],\n",
              "        [0.39709273],\n",
              "        [0.39057782],\n",
              "        [0.35138744],\n",
              "        [0.39802527],\n",
              "        [0.3927723 ],\n",
              "        [0.30083272],\n",
              "        [0.39891618],\n",
              "        [0.29306814],\n",
              "        [0.37780064],\n",
              "        [0.39517736],\n",
              "        [0.34135202],\n",
              "        [0.396421  ],\n",
              "        [0.39484   ],\n",
              "        [0.3677227 ],\n",
              "        [0.33090216],\n",
              "        [0.36825842],\n",
              "        [0.39530343],\n",
              "        [0.22485858],\n",
              "        [0.35439372],\n",
              "        [0.37027436],\n",
              "        [0.3841583 ],\n",
              "        [0.3717286 ],\n",
              "        [0.3894264 ],\n",
              "        [0.36885735],\n",
              "        [0.36912885],\n",
              "        [0.3987231 ],\n",
              "        [0.38559532],\n",
              "        [0.39885962],\n",
              "        [0.3960231 ],\n",
              "        [0.28050148],\n",
              "        [0.2830471 ],\n",
              "        [0.39296976],\n",
              "        [0.39305216],\n",
              "        [0.39839697],\n",
              "        [0.39306718],\n",
              "        [0.350864  ],\n",
              "        [0.3976774 ],\n",
              "        [0.39839408],\n",
              "        [0.39803502],\n",
              "        [0.39772058],\n",
              "        [0.39493823],\n",
              "        [0.39768472],\n",
              "        [0.32310253],\n",
              "        [0.39451692],\n",
              "        [0.29999483],\n",
              "        [0.35554987],\n",
              "        [0.38767272],\n",
              "        [0.39214623],\n",
              "        [0.3979925 ],\n",
              "        [0.3130545 ],\n",
              "        [0.36420757],\n",
              "        [0.39774126],\n",
              "        [0.39525434],\n",
              "        [0.38087475],\n",
              "        [0.3610241 ],\n",
              "        [0.328719  ],\n",
              "        [0.39861158],\n",
              "        [0.3977811 ],\n",
              "        [0.3364649 ],\n",
              "        [0.3612212 ],\n",
              "        [0.3912338 ],\n",
              "        [0.372705  ],\n",
              "        [0.37900057],\n",
              "        [0.3805943 ],\n",
              "        [0.37946677],\n",
              "        [0.37280333],\n",
              "        [0.38485622],\n",
              "        [0.32459322],\n",
              "        [0.37662488],\n",
              "        [0.36844236],\n",
              "        [0.38028878],\n",
              "        [0.3985402 ],\n",
              "        [0.36437327],\n",
              "        [0.31424874],\n",
              "        [0.3956925 ],\n",
              "        [0.3935908 ],\n",
              "        [0.38908514],\n",
              "        [0.3703103 ],\n",
              "        [0.38795382],\n",
              "        [0.39851144],\n",
              "        [0.34539232],\n",
              "        [0.39797184],\n",
              "        [0.26691827],\n",
              "        [0.34490693],\n",
              "        [0.3867144 ],\n",
              "        [0.34460613],\n",
              "        [0.35387394],\n",
              "        [0.39775774]], dtype=float32)>)"
            ]
          },
          "metadata": {
            "tags": []
          },
          "execution_count": 16
        }
      ]
    },
    {
      "metadata": {
        "id": "0h47GtAoB7jo",
        "colab_type": "code",
        "colab": {
          "base_uri": "https://localhost:8080/",
          "height": 53
        },
        "outputId": "19ae0d92-df7d-4388-a14c-ad955d462ab2"
      },
      "cell_type": "code",
      "source": [
        ""
      ],
      "execution_count": 10,
      "outputs": [
        {
          "output_type": "stream",
          "text": [
            "w_true:  [1.125005  0.4412938 0.7345909]\n",
            "w_fit:  [0.30323732 0.15513557 0.17084502]\n"
          ],
          "name": "stdout"
        }
      ]
    },
    {
      "metadata": {
        "id": "x8kYePr9B77V",
        "colab_type": "code",
        "colab": {}
      },
      "cell_type": "code",
      "source": [
        ""
      ],
      "execution_count": 0,
      "outputs": []
    },
    {
      "metadata": {
        "id": "LxgrxKkmB8nb",
        "colab_type": "code",
        "colab": {}
      },
      "cell_type": "code",
      "source": [
        ""
      ],
      "execution_count": 0,
      "outputs": []
    },
    {
      "metadata": {
        "id": "-l4gNsGWB810",
        "colab_type": "code",
        "colab": {}
      },
      "cell_type": "code",
      "source": [
        ""
      ],
      "execution_count": 0,
      "outputs": []
    },
    {
      "metadata": {
        "id": "Dikfg5WcBRli",
        "colab_type": "code",
        "colab": {}
      },
      "cell_type": "code",
      "source": [
        ""
      ],
      "execution_count": 0,
      "outputs": []
    },
    {
      "metadata": {
        "id": "UG06KlErBb4r",
        "colab_type": "code",
        "colab": {
          "base_uri": "https://localhost:8080/",
          "height": 35
        },
        "outputId": "b3f0877e-18c4-42d2-a272-272f14b8020d"
      },
      "cell_type": "code",
      "source": [
        ""
      ],
      "execution_count": 41,
      "outputs": [
        {
          "output_type": "execute_result",
          "data": {
            "text/plain": [
              "<tf.Tensor: id=158, shape=(1000000,), dtype=float32, numpy=array([1., 0., 1., ..., 0., 1., 1.], dtype=float32)>"
            ]
          },
          "metadata": {
            "tags": []
          },
          "execution_count": 41
        }
      ]
    }
  ]
}