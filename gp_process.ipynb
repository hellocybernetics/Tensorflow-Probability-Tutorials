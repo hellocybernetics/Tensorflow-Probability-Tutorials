{
 "cells": [
  {
   "cell_type": "code",
   "execution_count": 9,
   "metadata": {},
   "outputs": [],
   "source": [
    "import numpy as np\n",
    "import tensorflow as tf\n",
    "import tensorflow_probability as tfp\n",
    "import matplotlib.pyplot as plt\n",
    "import seaborn as sns\n",
    "from mpl_toolkits.mplot3d import Axes3D\n",
    "%matplotlib inline"
   ]
  },
  {
   "cell_type": "code",
   "execution_count": 2,
   "metadata": {},
   "outputs": [],
   "source": [
    "sns.set()\n",
    "tf.enable_eager_execution()"
   ]
  },
  {
   "cell_type": "code",
   "execution_count": 3,
   "metadata": {},
   "outputs": [],
   "source": [
    "tfd = tfp.distributions\n",
    "tfk = tfp.positive_semidefinite_kernels\n",
    "tfe = tf.contrib.eager"
   ]
  },
  {
   "cell_type": "code",
   "execution_count": 4,
   "metadata": {},
   "outputs": [],
   "source": [
    "def f(x):\n",
    "    return np.sin(3*x) + np.random.normal(loc=0, scale=0.2, size=(len(x), 1))\n",
    "\n",
    "def toy_data(num_obs_points, var_obs_noise):\n",
    "    \n",
    "    index_points = np.random.uniform(0., 5., size=(num_obs_points, 1)).astype(np.float32)\n",
    "    observations = f(index_points) + np.random.normal(loc=0,\n",
    "                                                      scale=np.sqrt(var_obs_noise),\n",
    "                                                      size=(num_obs_points, 1))\n",
    "    return index_points, observations"
   ]
  },
  {
   "cell_type": "code",
   "execution_count": 5,
   "metadata": {},
   "outputs": [
    {
     "data": {
      "text/plain": [
       "<matplotlib.collections.PathCollection at 0x7fe3c1d47e80>"
      ]
     },
     "execution_count": 5,
     "metadata": {},
     "output_type": "execute_result"
    },
    {
     "data": {
      "image/png": "[encoded data removed]",
      "text/plain": [
       "<Figure size 432x288 with 1 Axes>"
      ]
     },
     "metadata": {},
     "output_type": "display_data"
    }
   ],
   "source": [
    "NUM_OBS_POINTS = 20\n",
    "index_points, observations = toy_data(NUM_OBS_POINTS, 0.1)\n",
    "plt.scatter(index_points, observations)"
   ]
  },
  {
   "cell_type": "code",
   "execution_count": 6,
   "metadata": {},
   "outputs": [],
   "source": [
    "amplitude = tf.nn.softplus(tfe.Variable(initial_value=5.,\n",
    "                                        name='amplitude',\n",
    "                                        dtype=np.float64))\n",
    "length_scale = tf.nn.softplus(tfe.Variable(initial_value=10.,\n",
    "                                           name='length_scale',\n",
    "                                           dtype=np.float64))\n",
    "noise_variance = tf.nn.softplus(tfe.Variable(initial_value=1.,\n",
    "                                             name='noise_variance',\n",
    "                                             dtype=np.float64))\n",
    "\n",
    "kernel = tfk.ExponentiatedQuadratic(amplitude, length_scale)"
   ]
  },
  {
   "cell_type": "code",
   "execution_count": 7,
   "metadata": {},
   "outputs": [
    {
     "ename": "AttributeError",
     "evalue": "module 'tensorflow_probability.python.distributions' has no attribute 'GaussianProcess'",
     "output_type": "error",
     "traceback": [
      "\u001b[0;31m---------------------------------------------------------------------------\u001b[0m",
      "\u001b[0;31mAttributeError\u001b[0m                            Traceback (most recent call last)",
      "\u001b[0;32m<ipython-input-7-441b41a9273d>\u001b[0m in \u001b[0;36m<module>\u001b[0;34m()\u001b[0m\n\u001b[0;32m----> 1\u001b[0;31m gp = tfd.GaussianProcess(kernel=kernel,\n\u001b[0m\u001b[1;32m      2\u001b[0m                          \u001b[0mindex_points\u001b[0m\u001b[0;34m=\u001b[0m\u001b[0mindex_points\u001b[0m\u001b[0;34m,\u001b[0m\u001b[0;34m\u001b[0m\u001b[0m\n\u001b[1;32m      3\u001b[0m                          observation_noise_variance=noise_variance)\n",
      "\u001b[0;31mAttributeError\u001b[0m: module 'tensorflow_probability.python.distributions' has no attribute 'GaussianProcess'"
     ]
    }
   ],
   "source": [
    "gp = tfd.GaussianProcess(kernel=kernel,\n",
    "                         index_points=index_points,\n",
    "                         observation_noise_variance=noise_variance)"
   ]
  },
  {
   "cell_type": "code",
   "execution_count": null,
   "metadata": {},
   "outputs": [],
   "source": []
  },
  {
   "cell_type": "code",
   "execution_count": null,
   "metadata": {},
   "outputs": [],
   "source": []
  }
 ],
 "metadata": {
  "kernelspec": {
   "display_name": "Python 3",
   "language": "python",
   "name": "python3"
  },
  "language_info": {
   "codemirror_mode": {
    "name": "ipython",
    "version": 3
   },
   "file_extension": ".py",
   "mimetype": "text/x-python",
   "name": "python",
   "nbconvert_exporter": "python",
   "pygments_lexer": "ipython3",
   "version": "3.6.5"
  }
 },
 "nbformat": 4,
 "nbformat_minor": 2
}
